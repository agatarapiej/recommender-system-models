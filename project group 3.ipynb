{
 "cells": [
  {
   "cell_type": "markdown",
   "id": "c968e0ca-4c4e-4533-867b-55d518a06687",
   "metadata": {},
   "source": [
    "**Project Analysis of Customer Data\n",
    "Group 3\n",
    "Agata Rapiej, Quinty Van De Ven, Katarzyna Kasperska, Karel Wiertz**"
   ]
  },
  {
   "cell_type": "code",
   "execution_count": 1,
   "id": "0fce81c2-fc43-4de0-9b3e-e022827f5411",
   "metadata": {
    "colab": {
     "base_uri": "https://localhost:8080/"
    },
    "id": "0fce81c2-fc43-4de0-9b3e-e022827f5411",
    "outputId": "6b5bb960-ecbf-4c19-ef47-a8360e857468"
   },
   "outputs": [
    {
     "name": "stdout",
     "output_type": "stream",
     "text": [
      "Looking in indexes: https://pypi.org/simple, https://us-python.pkg.dev/colab-wheels/public/simple/\n",
      "Collecting scikit-surprise\n",
      "  Downloading scikit-surprise-1.1.1.tar.gz (11.8 MB)\n",
      "\u001b[K     |████████████████████████████████| 11.8 MB 7.0 MB/s \n",
      "\u001b[?25hRequirement already satisfied: joblib>=0.11 in /usr/local/lib/python3.7/dist-packages (from scikit-surprise) (1.2.0)\n",
      "Requirement already satisfied: numpy>=1.11.2 in /usr/local/lib/python3.7/dist-packages (from scikit-surprise) (1.21.6)\n",
      "Requirement already satisfied: scipy>=1.0.0 in /usr/local/lib/python3.7/dist-packages (from scikit-surprise) (1.7.3)\n",
      "Requirement already satisfied: six>=1.10.0 in /usr/local/lib/python3.7/dist-packages (from scikit-surprise) (1.15.0)\n",
      "Building wheels for collected packages: scikit-surprise\n",
      "  Building wheel for scikit-surprise (setup.py) ... \u001b[?25l\u001b[?25hdone\n",
      "  Created wheel for scikit-surprise: filename=scikit_surprise-1.1.1-cp37-cp37m-linux_x86_64.whl size=1633994 sha256=7a309f868604fb669c050cfb68f2001943da945910c077cf47a681de83852b69\n",
      "  Stored in directory: /root/.cache/pip/wheels/76/44/74/b498c42be47b2406bd27994e16c5188e337c657025ab400c1c\n",
      "Successfully built scikit-surprise\n",
      "Installing collected packages: scikit-surprise\n",
      "Successfully installed scikit-surprise-1.1.1\n"
     ]
    }
   ],
   "source": [
    "get_ipython().system('pip install scikit-surprise')"
   ]
  },
  {
   "cell_type": "code",
   "execution_count": 2,
   "id": "bb0ffa23-f7f8-4403-b929-98945fbb19df",
   "metadata": {
    "id": "bb0ffa23-f7f8-4403-b929-98945fbb19df"
   },
   "outputs": [],
   "source": [
    "import numpy as np\n",
    "import pandas as pd\n",
    "import seaborn as sns\n",
    "\n",
    "sns.set()\n",
    "sns.set_style('whitegrid')\n",
    "sns.set_context('paper', font_scale = 1.6, rc = {\"lines.linewidth\": 2})\n",
    "import matplotlib.pyplot as plt\n",
    "\n",
    "from surprise import Dataset\n",
    "from surprise import Reader\n",
    "from surprise import NormalPredictor\n",
    "from surprise.model_selection import cross_validate"
   ]
  },
  {
   "cell_type": "code",
   "execution_count": 3,
   "id": "06bT8e5nUkPK",
   "metadata": {
    "colab": {
     "base_uri": "https://localhost:8080/"
    },
    "id": "06bT8e5nUkPK",
    "outputId": "2d1ebf10-8761-408b-ba58-776ce443f41e"
   },
   "outputs": [
    {
     "name": "stdout",
     "output_type": "stream",
     "text": [
      "Mounted at /content/drive\n"
     ]
    }
   ],
   "source": [
    "from google.colab import drive\n",
    "drive.mount('/content/drive')"
   ]
  },
  {
   "cell_type": "markdown",
   "id": "8de10947-28d0-45b1-82b8-595bddc139ac",
   "metadata": {
    "id": "8de10947-28d0-45b1-82b8-595bddc139ac",
    "tags": []
   },
   "source": [
    "# PART 1"
   ]
  },
  {
   "cell_type": "markdown",
   "id": "zlI8469YfSba",
   "metadata": {
    "id": "zlI8469YfSba"
   },
   "source": [
    "**MovieLens Dataset**\n",
    "\n",
    "The dataset to be used in this project concerns the MovieLens1  dataset created \n",
    "by GroupLens Research, which is a human–computer interaction research lab in \n",
    "the Department of Computer Science and Engineering at the University of Minnesota. The dataset contains 27,753,444 five-star ratings across 58,098 movies and 283,228 users. The data was collected between January 09, 1995 and September 26, 2018. The dataset was generated on September 26, 2018. Users were selected at random for inclusion. It is important to notice that all selected users had rated at least one movie. Each user is represented by an id, no other information such as demographic information was collected."
   ]
  },
  {
   "cell_type": "code",
   "execution_count": 4,
   "id": "2aa28e63-5251-43e5-90e6-4b164d63ad70",
   "metadata": {
    "id": "2aa28e63-5251-43e5-90e6-4b164d63ad70"
   },
   "outputs": [],
   "source": [
    "# We start by reading in the MovieLens dataset. Missing values are replaced by -1.\n",
    "df = pd.read_csv('/content/drive/MyDrive/Colab Notebooks/ratings.csv', na_values = -1)"
   ]
  },
  {
   "cell_type": "code",
   "execution_count": 5,
   "id": "36a51f6e-24a7-475b-8f19-fc40687e0ee9",
   "metadata": {
    "colab": {
     "base_uri": "https://localhost:8080/",
     "height": 363
    },
    "id": "36a51f6e-24a7-475b-8f19-fc40687e0ee9",
    "outputId": "f15ca6f0-dabd-4225-df1e-b53def85ada3"
   },
   "outputs": [
    {
     "data": {
      "text/html": [
       "\n",
       "  <div id=\"df-138bb1ab-fc63-4eab-8578-3f4208205164\">\n",
       "    <div class=\"colab-df-container\">\n",
       "      <div>\n",
       "<style scoped>\n",
       "    .dataframe tbody tr th:only-of-type {\n",
       "        vertical-align: middle;\n",
       "    }\n",
       "\n",
       "    .dataframe tbody tr th {\n",
       "        vertical-align: top;\n",
       "    }\n",
       "\n",
       "    .dataframe thead th {\n",
       "        text-align: right;\n",
       "    }\n",
       "</style>\n",
       "<table border=\"1\" class=\"dataframe\">\n",
       "  <thead>\n",
       "    <tr style=\"text-align: right;\">\n",
       "      <th></th>\n",
       "      <th>userId</th>\n",
       "      <th>movieId</th>\n",
       "      <th>rating</th>\n",
       "      <th>timestamp</th>\n",
       "    </tr>\n",
       "  </thead>\n",
       "  <tbody>\n",
       "    <tr>\n",
       "      <th>0</th>\n",
       "      <td>1</td>\n",
       "      <td>307</td>\n",
       "      <td>3.5</td>\n",
       "      <td>1256677221</td>\n",
       "    </tr>\n",
       "    <tr>\n",
       "      <th>1</th>\n",
       "      <td>1</td>\n",
       "      <td>481</td>\n",
       "      <td>3.5</td>\n",
       "      <td>1256677456</td>\n",
       "    </tr>\n",
       "    <tr>\n",
       "      <th>2</th>\n",
       "      <td>1</td>\n",
       "      <td>1091</td>\n",
       "      <td>1.5</td>\n",
       "      <td>1256677471</td>\n",
       "    </tr>\n",
       "    <tr>\n",
       "      <th>3</th>\n",
       "      <td>1</td>\n",
       "      <td>1257</td>\n",
       "      <td>4.5</td>\n",
       "      <td>1256677460</td>\n",
       "    </tr>\n",
       "    <tr>\n",
       "      <th>4</th>\n",
       "      <td>1</td>\n",
       "      <td>1449</td>\n",
       "      <td>4.5</td>\n",
       "      <td>1256677264</td>\n",
       "    </tr>\n",
       "    <tr>\n",
       "      <th>5</th>\n",
       "      <td>1</td>\n",
       "      <td>1590</td>\n",
       "      <td>2.5</td>\n",
       "      <td>1256677236</td>\n",
       "    </tr>\n",
       "    <tr>\n",
       "      <th>6</th>\n",
       "      <td>1</td>\n",
       "      <td>1591</td>\n",
       "      <td>1.5</td>\n",
       "      <td>1256677475</td>\n",
       "    </tr>\n",
       "    <tr>\n",
       "      <th>7</th>\n",
       "      <td>1</td>\n",
       "      <td>2134</td>\n",
       "      <td>4.5</td>\n",
       "      <td>1256677464</td>\n",
       "    </tr>\n",
       "    <tr>\n",
       "      <th>8</th>\n",
       "      <td>1</td>\n",
       "      <td>2478</td>\n",
       "      <td>4.0</td>\n",
       "      <td>1256677239</td>\n",
       "    </tr>\n",
       "    <tr>\n",
       "      <th>9</th>\n",
       "      <td>1</td>\n",
       "      <td>2840</td>\n",
       "      <td>3.0</td>\n",
       "      <td>1256677500</td>\n",
       "    </tr>\n",
       "  </tbody>\n",
       "</table>\n",
       "</div>\n",
       "      <button class=\"colab-df-convert\" onclick=\"convertToInteractive('df-138bb1ab-fc63-4eab-8578-3f4208205164')\"\n",
       "              title=\"Convert this dataframe to an interactive table.\"\n",
       "              style=\"display:none;\">\n",
       "        \n",
       "  <svg xmlns=\"http://www.w3.org/2000/svg\" height=\"24px\"viewBox=\"0 0 24 24\"\n",
       "       width=\"24px\">\n",
       "    <path d=\"M0 0h24v24H0V0z\" fill=\"none\"/>\n",
       "    <path d=\"M18.56 5.44l.94 2.06.94-2.06 2.06-.94-2.06-.94-.94-2.06-.94 2.06-2.06.94zm-11 1L8.5 8.5l.94-2.06 2.06-.94-2.06-.94L8.5 2.5l-.94 2.06-2.06.94zm10 10l.94 2.06.94-2.06 2.06-.94-2.06-.94-.94-2.06-.94 2.06-2.06.94z\"/><path d=\"M17.41 7.96l-1.37-1.37c-.4-.4-.92-.59-1.43-.59-.52 0-1.04.2-1.43.59L10.3 9.45l-7.72 7.72c-.78.78-.78 2.05 0 2.83L4 21.41c.39.39.9.59 1.41.59.51 0 1.02-.2 1.41-.59l7.78-7.78 2.81-2.81c.8-.78.8-2.07 0-2.86zM5.41 20L4 18.59l7.72-7.72 1.47 1.35L5.41 20z\"/>\n",
       "  </svg>\n",
       "      </button>\n",
       "      \n",
       "  <style>\n",
       "    .colab-df-container {\n",
       "      display:flex;\n",
       "      flex-wrap:wrap;\n",
       "      gap: 12px;\n",
       "    }\n",
       "\n",
       "    .colab-df-convert {\n",
       "      background-color: #E8F0FE;\n",
       "      border: none;\n",
       "      border-radius: 50%;\n",
       "      cursor: pointer;\n",
       "      display: none;\n",
       "      fill: #1967D2;\n",
       "      height: 32px;\n",
       "      padding: 0 0 0 0;\n",
       "      width: 32px;\n",
       "    }\n",
       "\n",
       "    .colab-df-convert:hover {\n",
       "      background-color: #E2EBFA;\n",
       "      box-shadow: 0px 1px 2px rgba(60, 64, 67, 0.3), 0px 1px 3px 1px rgba(60, 64, 67, 0.15);\n",
       "      fill: #174EA6;\n",
       "    }\n",
       "\n",
       "    [theme=dark] .colab-df-convert {\n",
       "      background-color: #3B4455;\n",
       "      fill: #D2E3FC;\n",
       "    }\n",
       "\n",
       "    [theme=dark] .colab-df-convert:hover {\n",
       "      background-color: #434B5C;\n",
       "      box-shadow: 0px 1px 3px 1px rgba(0, 0, 0, 0.15);\n",
       "      filter: drop-shadow(0px 1px 2px rgba(0, 0, 0, 0.3));\n",
       "      fill: #FFFFFF;\n",
       "    }\n",
       "  </style>\n",
       "\n",
       "      <script>\n",
       "        const buttonEl =\n",
       "          document.querySelector('#df-138bb1ab-fc63-4eab-8578-3f4208205164 button.colab-df-convert');\n",
       "        buttonEl.style.display =\n",
       "          google.colab.kernel.accessAllowed ? 'block' : 'none';\n",
       "\n",
       "        async function convertToInteractive(key) {\n",
       "          const element = document.querySelector('#df-138bb1ab-fc63-4eab-8578-3f4208205164');\n",
       "          const dataTable =\n",
       "            await google.colab.kernel.invokeFunction('convertToInteractive',\n",
       "                                                     [key], {});\n",
       "          if (!dataTable) return;\n",
       "\n",
       "          const docLinkHtml = 'Like what you see? Visit the ' +\n",
       "            '<a target=\"_blank\" href=https://colab.research.google.com/notebooks/data_table.ipynb>data table notebook</a>'\n",
       "            + ' to learn more about interactive tables.';\n",
       "          element.innerHTML = '';\n",
       "          dataTable['output_type'] = 'display_data';\n",
       "          await google.colab.output.renderOutput(dataTable, element);\n",
       "          const docLink = document.createElement('div');\n",
       "          docLink.innerHTML = docLinkHtml;\n",
       "          element.appendChild(docLink);\n",
       "        }\n",
       "      </script>\n",
       "    </div>\n",
       "  </div>\n",
       "  "
      ],
      "text/plain": [
       "   userId  movieId  rating   timestamp\n",
       "0       1      307     3.5  1256677221\n",
       "1       1      481     3.5  1256677456\n",
       "2       1     1091     1.5  1256677471\n",
       "3       1     1257     4.5  1256677460\n",
       "4       1     1449     4.5  1256677264\n",
       "5       1     1590     2.5  1256677236\n",
       "6       1     1591     1.5  1256677475\n",
       "7       1     2134     4.5  1256677464\n",
       "8       1     2478     4.0  1256677239\n",
       "9       1     2840     3.0  1256677500"
      ]
     },
     "execution_count": 5,
     "metadata": {},
     "output_type": "execute_result"
    }
   ],
   "source": [
    "# Firstly, we inspect the first ten rows of the dataset and subsequently we gather general \n",
    "# information on the dataset.\n",
    "df.head(n = 10)"
   ]
  },
  {
   "cell_type": "code",
   "execution_count": 6,
   "id": "a8c904c8-d079-4f0b-85d3-dde9c4362bf2",
   "metadata": {
    "colab": {
     "base_uri": "https://localhost:8080/"
    },
    "id": "a8c904c8-d079-4f0b-85d3-dde9c4362bf2",
    "outputId": "7725e729-6164-4cab-9997-a276be0128e9"
   },
   "outputs": [
    {
     "name": "stdout",
     "output_type": "stream",
     "text": [
      "<class 'pandas.core.frame.DataFrame'>\n",
      "RangeIndex: 27753444 entries, 0 to 27753443\n",
      "Data columns (total 4 columns):\n",
      " #   Column     Dtype  \n",
      "---  ------     -----  \n",
      " 0   userId     int64  \n",
      " 1   movieId    int64  \n",
      " 2   rating     float64\n",
      " 3   timestamp  int64  \n",
      "dtypes: float64(1), int64(3)\n",
      "memory usage: 847.0 MB\n"
     ]
    }
   ],
   "source": [
    "df.info()"
   ]
  },
  {
   "cell_type": "code",
   "execution_count": 7,
   "id": "d7956f3e-d187-4929-92e4-90998d4837fb",
   "metadata": {
    "id": "d7956f3e-d187-4929-92e4-90998d4837fb"
   },
   "outputs": [],
   "source": [
    "# We notice the timestamp column is of data type int64 and represents the number of seconds passed since \n",
    "# midnight of January 1, 1970 (UTC) which might sound vague. To make this more intuitive, timestamp needs to\n",
    "# be transformed.\n",
    "df['timestamp'] = pd.to_datetime(df['timestamp'], unit = 's')"
   ]
  },
  {
   "cell_type": "code",
   "execution_count": 8,
   "id": "3a305dc6-99ff-4d2f-87cb-a3a113eff0f2",
   "metadata": {
    "colab": {
     "base_uri": "https://localhost:8080/",
     "height": 363
    },
    "id": "3a305dc6-99ff-4d2f-87cb-a3a113eff0f2",
    "outputId": "324d72b9-19cc-40b0-e112-efc4b56409ae"
   },
   "outputs": [
    {
     "data": {
      "text/html": [
       "\n",
       "  <div id=\"df-8c2c4e93-d244-4c1a-b64e-f6b65ee74378\">\n",
       "    <div class=\"colab-df-container\">\n",
       "      <div>\n",
       "<style scoped>\n",
       "    .dataframe tbody tr th:only-of-type {\n",
       "        vertical-align: middle;\n",
       "    }\n",
       "\n",
       "    .dataframe tbody tr th {\n",
       "        vertical-align: top;\n",
       "    }\n",
       "\n",
       "    .dataframe thead th {\n",
       "        text-align: right;\n",
       "    }\n",
       "</style>\n",
       "<table border=\"1\" class=\"dataframe\">\n",
       "  <thead>\n",
       "    <tr style=\"text-align: right;\">\n",
       "      <th></th>\n",
       "      <th>userId</th>\n",
       "      <th>movieId</th>\n",
       "      <th>rating</th>\n",
       "      <th>timestamp</th>\n",
       "    </tr>\n",
       "  </thead>\n",
       "  <tbody>\n",
       "    <tr>\n",
       "      <th>0</th>\n",
       "      <td>1</td>\n",
       "      <td>307</td>\n",
       "      <td>3.5</td>\n",
       "      <td>2009-10-27 21:00:21</td>\n",
       "    </tr>\n",
       "    <tr>\n",
       "      <th>1</th>\n",
       "      <td>1</td>\n",
       "      <td>481</td>\n",
       "      <td>3.5</td>\n",
       "      <td>2009-10-27 21:04:16</td>\n",
       "    </tr>\n",
       "    <tr>\n",
       "      <th>2</th>\n",
       "      <td>1</td>\n",
       "      <td>1091</td>\n",
       "      <td>1.5</td>\n",
       "      <td>2009-10-27 21:04:31</td>\n",
       "    </tr>\n",
       "    <tr>\n",
       "      <th>3</th>\n",
       "      <td>1</td>\n",
       "      <td>1257</td>\n",
       "      <td>4.5</td>\n",
       "      <td>2009-10-27 21:04:20</td>\n",
       "    </tr>\n",
       "    <tr>\n",
       "      <th>4</th>\n",
       "      <td>1</td>\n",
       "      <td>1449</td>\n",
       "      <td>4.5</td>\n",
       "      <td>2009-10-27 21:01:04</td>\n",
       "    </tr>\n",
       "    <tr>\n",
       "      <th>5</th>\n",
       "      <td>1</td>\n",
       "      <td>1590</td>\n",
       "      <td>2.5</td>\n",
       "      <td>2009-10-27 21:00:36</td>\n",
       "    </tr>\n",
       "    <tr>\n",
       "      <th>6</th>\n",
       "      <td>1</td>\n",
       "      <td>1591</td>\n",
       "      <td>1.5</td>\n",
       "      <td>2009-10-27 21:04:35</td>\n",
       "    </tr>\n",
       "    <tr>\n",
       "      <th>7</th>\n",
       "      <td>1</td>\n",
       "      <td>2134</td>\n",
       "      <td>4.5</td>\n",
       "      <td>2009-10-27 21:04:24</td>\n",
       "    </tr>\n",
       "    <tr>\n",
       "      <th>8</th>\n",
       "      <td>1</td>\n",
       "      <td>2478</td>\n",
       "      <td>4.0</td>\n",
       "      <td>2009-10-27 21:00:39</td>\n",
       "    </tr>\n",
       "    <tr>\n",
       "      <th>9</th>\n",
       "      <td>1</td>\n",
       "      <td>2840</td>\n",
       "      <td>3.0</td>\n",
       "      <td>2009-10-27 21:05:00</td>\n",
       "    </tr>\n",
       "  </tbody>\n",
       "</table>\n",
       "</div>\n",
       "      <button class=\"colab-df-convert\" onclick=\"convertToInteractive('df-8c2c4e93-d244-4c1a-b64e-f6b65ee74378')\"\n",
       "              title=\"Convert this dataframe to an interactive table.\"\n",
       "              style=\"display:none;\">\n",
       "        \n",
       "  <svg xmlns=\"http://www.w3.org/2000/svg\" height=\"24px\"viewBox=\"0 0 24 24\"\n",
       "       width=\"24px\">\n",
       "    <path d=\"M0 0h24v24H0V0z\" fill=\"none\"/>\n",
       "    <path d=\"M18.56 5.44l.94 2.06.94-2.06 2.06-.94-2.06-.94-.94-2.06-.94 2.06-2.06.94zm-11 1L8.5 8.5l.94-2.06 2.06-.94-2.06-.94L8.5 2.5l-.94 2.06-2.06.94zm10 10l.94 2.06.94-2.06 2.06-.94-2.06-.94-.94-2.06-.94 2.06-2.06.94z\"/><path d=\"M17.41 7.96l-1.37-1.37c-.4-.4-.92-.59-1.43-.59-.52 0-1.04.2-1.43.59L10.3 9.45l-7.72 7.72c-.78.78-.78 2.05 0 2.83L4 21.41c.39.39.9.59 1.41.59.51 0 1.02-.2 1.41-.59l7.78-7.78 2.81-2.81c.8-.78.8-2.07 0-2.86zM5.41 20L4 18.59l7.72-7.72 1.47 1.35L5.41 20z\"/>\n",
       "  </svg>\n",
       "      </button>\n",
       "      \n",
       "  <style>\n",
       "    .colab-df-container {\n",
       "      display:flex;\n",
       "      flex-wrap:wrap;\n",
       "      gap: 12px;\n",
       "    }\n",
       "\n",
       "    .colab-df-convert {\n",
       "      background-color: #E8F0FE;\n",
       "      border: none;\n",
       "      border-radius: 50%;\n",
       "      cursor: pointer;\n",
       "      display: none;\n",
       "      fill: #1967D2;\n",
       "      height: 32px;\n",
       "      padding: 0 0 0 0;\n",
       "      width: 32px;\n",
       "    }\n",
       "\n",
       "    .colab-df-convert:hover {\n",
       "      background-color: #E2EBFA;\n",
       "      box-shadow: 0px 1px 2px rgba(60, 64, 67, 0.3), 0px 1px 3px 1px rgba(60, 64, 67, 0.15);\n",
       "      fill: #174EA6;\n",
       "    }\n",
       "\n",
       "    [theme=dark] .colab-df-convert {\n",
       "      background-color: #3B4455;\n",
       "      fill: #D2E3FC;\n",
       "    }\n",
       "\n",
       "    [theme=dark] .colab-df-convert:hover {\n",
       "      background-color: #434B5C;\n",
       "      box-shadow: 0px 1px 3px 1px rgba(0, 0, 0, 0.15);\n",
       "      filter: drop-shadow(0px 1px 2px rgba(0, 0, 0, 0.3));\n",
       "      fill: #FFFFFF;\n",
       "    }\n",
       "  </style>\n",
       "\n",
       "      <script>\n",
       "        const buttonEl =\n",
       "          document.querySelector('#df-8c2c4e93-d244-4c1a-b64e-f6b65ee74378 button.colab-df-convert');\n",
       "        buttonEl.style.display =\n",
       "          google.colab.kernel.accessAllowed ? 'block' : 'none';\n",
       "\n",
       "        async function convertToInteractive(key) {\n",
       "          const element = document.querySelector('#df-8c2c4e93-d244-4c1a-b64e-f6b65ee74378');\n",
       "          const dataTable =\n",
       "            await google.colab.kernel.invokeFunction('convertToInteractive',\n",
       "                                                     [key], {});\n",
       "          if (!dataTable) return;\n",
       "\n",
       "          const docLinkHtml = 'Like what you see? Visit the ' +\n",
       "            '<a target=\"_blank\" href=https://colab.research.google.com/notebooks/data_table.ipynb>data table notebook</a>'\n",
       "            + ' to learn more about interactive tables.';\n",
       "          element.innerHTML = '';\n",
       "          dataTable['output_type'] = 'display_data';\n",
       "          await google.colab.output.renderOutput(dataTable, element);\n",
       "          const docLink = document.createElement('div');\n",
       "          docLink.innerHTML = docLinkHtml;\n",
       "          element.appendChild(docLink);\n",
       "        }\n",
       "      </script>\n",
       "    </div>\n",
       "  </div>\n",
       "  "
      ],
      "text/plain": [
       "   userId  movieId  rating           timestamp\n",
       "0       1      307     3.5 2009-10-27 21:00:21\n",
       "1       1      481     3.5 2009-10-27 21:04:16\n",
       "2       1     1091     1.5 2009-10-27 21:04:31\n",
       "3       1     1257     4.5 2009-10-27 21:04:20\n",
       "4       1     1449     4.5 2009-10-27 21:01:04\n",
       "5       1     1590     2.5 2009-10-27 21:00:36\n",
       "6       1     1591     1.5 2009-10-27 21:04:35\n",
       "7       1     2134     4.5 2009-10-27 21:04:24\n",
       "8       1     2478     4.0 2009-10-27 21:00:39\n",
       "9       1     2840     3.0 2009-10-27 21:05:00"
      ]
     },
     "execution_count": 8,
     "metadata": {},
     "output_type": "execute_result"
    }
   ],
   "source": [
    "# If we inspect the first ten rows of the data set after timestamp is transformed, we clearly see the \n",
    "# change of timestamp. If we, afterwards, gather information on the data set again as well, we observe the data \n",
    "# type of timestamp has changed. The transformation made it data type change from int64 into datetime64.\n",
    "df.head(n = 10)"
   ]
  },
  {
   "cell_type": "code",
   "execution_count": 9,
   "id": "b8efc9b8-8294-4559-82a7-638835a2f1fb",
   "metadata": {
    "colab": {
     "base_uri": "https://localhost:8080/"
    },
    "id": "b8efc9b8-8294-4559-82a7-638835a2f1fb",
    "outputId": "8fe70d4f-84bd-44b2-d3a4-22140510d9b5"
   },
   "outputs": [
    {
     "name": "stdout",
     "output_type": "stream",
     "text": [
      "<class 'pandas.core.frame.DataFrame'>\n",
      "RangeIndex: 27753444 entries, 0 to 27753443\n",
      "Data columns (total 4 columns):\n",
      " #   Column     Dtype         \n",
      "---  ------     -----         \n",
      " 0   userId     int64         \n",
      " 1   movieId    int64         \n",
      " 2   rating     float64       \n",
      " 3   timestamp  datetime64[ns]\n",
      "dtypes: datetime64[ns](1), float64(1), int64(2)\n",
      "memory usage: 847.0 MB\n"
     ]
    }
   ],
   "source": [
    "df.info()"
   ]
  },
  {
   "cell_type": "code",
   "execution_count": 10,
   "id": "eb4bfa09-6b53-4fe8-9730-d9739d66516f",
   "metadata": {
    "colab": {
     "base_uri": "https://localhost:8080/"
    },
    "id": "eb4bfa09-6b53-4fe8-9730-d9739d66516f",
    "outputId": "ba373f51-48c2-41d3-dd6e-b2e43cdc7a96"
   },
   "outputs": [
    {
     "name": "stdout",
     "output_type": "stream",
     "text": [
      "Percentage of missing values: 0.0%\n",
      "Number of unique users: 283228\n",
      "Number of unique movies: 53889\n"
     ]
    }
   ],
   "source": [
    "# Now our data is all in an appropriate data type, we investigate the missing values in the data set and \n",
    "# the amount of unique users and movies.\n",
    "percent_missing = df.isnull().sum() * 100 / len(df)\n",
    "print('Percentage of missing values: ' + str(round(percent_missing['rating'], 2)) + '%')\n",
    "\n",
    "unique_users = len(df['userId'].unique())\n",
    "print('Number of unique users: ' + str(unique_users))\n",
    "\n",
    "unique_movies = len(df['movieId'].unique())\n",
    "print('Number of unique movies: ' + str(unique_movies))"
   ]
  },
  {
   "cell_type": "code",
   "execution_count": 11,
   "id": "4b806d91-07ce-4f8c-be52-c1680c753dfc",
   "metadata": {
    "colab": {
     "base_uri": "https://localhost:8080/"
    },
    "id": "4b806d91-07ce-4f8c-be52-c1680c753dfc",
    "outputId": "a4cafbc7-08e5-403b-c712-fa674ed4bc5b"
   },
   "outputs": [
    {
     "name": "stdout",
     "output_type": "stream",
     "text": [
      "Percentage of missing values: 0.0%\n",
      "Number of unique users: 283228\n",
      "Number of unique movies: 53889\n"
     ]
    }
   ],
   "source": [
    "# A missing value score of 0.0% implies the used dataset does not contain any missing value (NaN).\n",
    "# However, datasets used in practice as input for recommender system usually contain some missing values,\n",
    "# especially regarding ratings given by users. We might want to verify this dataset does indeed not contain\n",
    "# any missing value. We will do this by dropping all missing values in the dataset and observe whether this\n",
    "# changes either one of the percentage of missing values, the number of unique users or the number of unique movies.\n",
    "df.dropna(axis = 'index', inplace = True)\n",
    "\n",
    "percent_missing = df.isnull().sum() * 100 / len(df)\n",
    "print('Percentage of missing values: ' + str(round(percent_missing['rating'], 2)) + '%')\n",
    "\n",
    "unique_users = len(df['userId'].unique())\n",
    "print('Number of unique users: ' + str(unique_users))\n",
    "\n",
    "unique_movies = len(df['movieId'].unique())\n",
    "print('Number of unique movies: ' + str(unique_movies))"
   ]
  },
  {
   "cell_type": "code",
   "execution_count": 12,
   "id": "177a9543-6a1e-46a5-93ef-37c1217e1ea4",
   "metadata": {
    "colab": {
     "base_uri": "https://localhost:8080/"
    },
    "id": "177a9543-6a1e-46a5-93ef-37c1217e1ea4",
    "outputId": "6d5c9036-022c-4258-ffe8-c36370c6ca2b"
   },
   "outputs": [
    {
     "data": {
      "text/plain": [
       "count    2.775344e+07\n",
       "mean     3.530445e+00\n",
       "std      1.066353e+00\n",
       "min      5.000000e-01\n",
       "25%      3.000000e+00\n",
       "50%      3.500000e+00\n",
       "75%      4.000000e+00\n",
       "max      5.000000e+00\n",
       "Name: rating, dtype: float64"
      ]
     },
     "execution_count": 12,
     "metadata": {},
     "output_type": "execute_result"
    }
   ],
   "source": [
    "# The missing values score turns out to be 0.0% again and the numbers of unique users and movies do not change,\n",
    "# even after dropping possible NaN-values. Hence, we can indeed conclude this dataset does not contain any\n",
    "# missing value.\n",
    "# Next, we want to get insight into given ratings. A first insight is obtained by the descriptive statistics on ratings\n",
    "# and how many times each rating (between 0.5 and 5.0) is given. \n",
    "df['rating'].describe()"
   ]
  },
  {
   "cell_type": "code",
   "execution_count": 13,
   "id": "771e4caf-6423-404a-b653-a510eb52557b",
   "metadata": {
    "colab": {
     "base_uri": "https://localhost:8080/"
    },
    "id": "771e4caf-6423-404a-b653-a510eb52557b",
    "outputId": "7d209187-17e7-467d-b8dc-e4472c22e342"
   },
   "outputs": [
    {
     "data": {
      "text/plain": [
       "4.0    7394710\n",
       "3.0    5515668\n",
       "5.0    4071135\n",
       "3.5    3404360\n",
       "4.5    2373550\n",
       "2.0    1850627\n",
       "2.5    1373419\n",
       "1.0     886233\n",
       "0.5     442388\n",
       "1.5     441354\n",
       "Name: rating, dtype: int64"
      ]
     },
     "execution_count": 13,
     "metadata": {},
     "output_type": "execute_result"
    }
   ],
   "source": [
    "# Descriptive statistics on rating show its the average rating per movie is approximately 3.5 stars with\n",
    "# a standard deviation of approximately 1 star. Other descriptive statistics are affected by the\n",
    "# limited number of values (as ratings can only be values between 0.5 and 5.0 with intervals of 0.5).\n",
    "# Therefore, it is more interesting to look at the number of times each rating was given.\n",
    "df['rating'].value_counts()"
   ]
  },
  {
   "cell_type": "code",
   "execution_count": 14,
   "id": "411f5e72-78ed-47fd-af4b-78dbf7cb0e66",
   "metadata": {
    "colab": {
     "base_uri": "https://localhost:8080/",
     "height": 392
    },
    "id": "411f5e72-78ed-47fd-af4b-78dbf7cb0e66",
    "outputId": "2388ea7b-212d-4075-cbe8-ad3cefd677e6"
   },
   "outputs": [
    {
     "data": {
      "text/plain": [
       "<matplotlib.axes._subplots.AxesSubplot at 0x7fe44ff6f6d0>"
      ]
     },
     "execution_count": 14,
     "metadata": {},
     "output_type": "execute_result"
    },
    {
     "data": {
      "image/png": "[encoded data removed]",
      "text/plain": [
       "<Figure size 576x396 with 1 Axes>"
      ]
     },
     "metadata": {},
     "output_type": "display_data"
    }
   ],
   "source": [
    "# As solely numbers might be difficult to interpret, we construct a bar plot and a pie chart based on \n",
    "# value counts of all ratings.\n",
    "df['rating'].value_counts().plot(kind = 'bar', figsize = (8, 5.5))"
   ]
  },
  {
   "cell_type": "code",
   "execution_count": 16,
   "id": "19470191-0a7c-4d36-b518-9267fd8a77a8",
   "metadata": {
    "colab": {
     "base_uri": "https://localhost:8080/",
     "height": 307
    },
    "id": "19470191-0a7c-4d36-b518-9267fd8a77a8",
    "outputId": "ffc7b4c2-3a7c-48d6-d0fa-9ce247a8899f"
   },
   "outputs": [
    {
     "data": {
      "text/plain": [
       "<matplotlib.axes._subplots.AxesSubplot at 0x7fe3ec983550>"
      ]
     },
     "execution_count": 16,
     "metadata": {},
     "output_type": "execute_result"
    },
    {
     "data": {
      "image/png": "[encoded data removed]",
      "text/plain": [
       "<Figure size 432x288 with 1 Axes>"
      ]
     },
     "metadata": {},
     "output_type": "display_data"
    }
   ],
   "source": [
    "# The rating of four stars is given most often, followed by three stars and five stars. Low ratings are given\n",
    "# less often. This might make the data more skewed towards higher ratings.\n",
    "# While the three most-given ratings consist of three .0-ratings, the three least-given \n",
    "# ratings consist of two .5-ratings and just one .0-rating. This might indicate that people are less likely\n",
    "# to give 'half-star' ratings compared to 'full-star' ratings.\n",
    "# As last investigation of the ratings, we observe the development of yearly average ratings over time by\n",
    "# a line plot.\n",
    "df.groupby(df['timestamp'].dt.year)['rating'].mean().plot(kind = 'line')"
   ]
  },
  {
   "cell_type": "code",
   "execution_count": 17,
   "id": "cd69ec0b-3b67-416a-bd3c-25e80967faff",
   "metadata": {
    "colab": {
     "base_uri": "https://localhost:8080/"
    },
    "id": "cd69ec0b-3b67-416a-bd3c-25e80967faff",
    "outputId": "d907aaab-9362-4050-ab72-4bfc6c9d6868"
   },
   "outputs": [
    {
     "data": {
      "text/plain": [
       "318       97999\n",
       "356       97040\n",
       "296       92406\n",
       "593       87899\n",
       "2571      84545\n",
       "          ...  \n",
       "165077        1\n",
       "172453        1\n",
       "192975        1\n",
       "167092        1\n",
       "142855        1\n",
       "Name: movieId, Length: 53889, dtype: int64"
      ]
     },
     "execution_count": 17,
     "metadata": {},
     "output_type": "execute_result"
    }
   ],
   "source": [
    "# We notice average ratings have their peak in the year 1995, after which it starts to drop. The lowest\n",
    "# average rating per movie is found in the year 2004. After this, the average rating increases again.\n",
    "# After a short peak around the year 2013, the average rating ends at its current level of approximately 3.5\n",
    "# stars in 2018.\n",
    "# Our next point of interest is the movie which received the most ratings. This is done by observing the\n",
    "# number of times a movieId was registered in a rating (i.e. looking at a movieId's value counts).\n",
    "df['movieId'].value_counts()"
   ]
  },
  {
   "cell_type": "code",
   "execution_count": 18,
   "id": "22fab05d-5b18-4999-b317-7ffa75741fd5",
   "metadata": {
    "colab": {
     "base_uri": "https://localhost:8080/"
    },
    "id": "22fab05d-5b18-4999-b317-7ffa75741fd5",
    "outputId": "5bb602cc-5c0d-46dc-ef6f-72f97ca0344b"
   },
   "outputs": [
    {
     "data": {
      "text/plain": [
       "count    97999.000000\n",
       "mean         4.424188\n",
       "std          0.763178\n",
       "min          0.500000\n",
       "25%          4.000000\n",
       "50%          4.500000\n",
       "75%          5.000000\n",
       "max          5.000000\n",
       "Name: rating, dtype: float64"
      ]
     },
     "execution_count": 18,
     "metadata": {},
     "output_type": "execute_result"
    }
   ],
   "source": [
    "# Movie with movieId 318 (from now on referred to as movie 318) turns out to be the movie to receive the most\n",
    "# ratings as it was rated 97,999 times. The values at the bottom indicate several movies exist which only got rated once.\n",
    "# We now further focus on the most often rated movie. We first observe its descriptive statistics.\n",
    "df.groupby('movieId')['rating'].get_group(318).describe()"
   ]
  },
  {
   "cell_type": "code",
   "execution_count": 19,
   "id": "1859de10-2532-479a-be83-c2da6d8ce7db",
   "metadata": {
    "colab": {
     "base_uri": "https://localhost:8080/"
    },
    "id": "1859de10-2532-479a-be83-c2da6d8ce7db",
    "outputId": "75636ef2-87fe-4dad-93a2-5baba4071054"
   },
   "outputs": [
    {
     "data": {
      "text/plain": [
       "5.0    48762\n",
       "4.0    22216\n",
       "4.5    14110\n",
       "3.0     5668\n",
       "3.5     4384\n",
       "2.0      950\n",
       "2.5      875\n",
       "1.0      441\n",
       "0.5      369\n",
       "1.5      224\n",
       "Name: rating, dtype: int64"
      ]
     },
     "execution_count": 19,
     "metadata": {},
     "output_type": "execute_result"
    }
   ],
   "source": [
    "# The most informative statistic is the average rating of movie 318 which is with approximately 4.5 stars\n",
    "# relatively high. This is indicated as well by the quartiles as these show high values (4 stars and higher)\n",
    "# as well. We further investigate the number of times movie 318 received each rating.\n",
    "df.groupby('movieId')['rating'].get_group(318).value_counts()"
   ]
  },
  {
   "cell_type": "code",
   "execution_count": 20,
   "id": "04122da2-320e-4dae-a8a1-b287479ab950",
   "metadata": {
    "colab": {
     "base_uri": "https://localhost:8080/",
     "height": 297
    },
    "id": "04122da2-320e-4dae-a8a1-b287479ab950",
    "outputId": "8231d210-8431-4d74-b9d0-845e5116b767"
   },
   "outputs": [
    {
     "data": {
      "text/plain": [
       "<matplotlib.axes._subplots.AxesSubplot at 0x7fe3ec8ff610>"
      ]
     },
     "execution_count": 20,
     "metadata": {},
     "output_type": "execute_result"
    },
    {
     "data": {
      "image/png": "[encoded data removed]",
      "text/plain": [
       "<Figure size 432x288 with 1 Axes>"
      ]
     },
     "metadata": {},
     "output_type": "display_data"
    }
   ],
   "source": [
    "# These numbers show the most rated movie received the highest rating most often. The rating it received most\n",
    "# often (5 stars) was given more than twice as much times as the value it received second most often (4 stars).\n",
    "# As the numbers above show some interesting aspects, analysing the given ratings is more intuitive to do \n",
    "# by a bar plot.\n",
    "df.groupby('movieId')['rating'].get_group(318).value_counts().plot(kind = 'bar')"
   ]
  },
  {
   "cell_type": "code",
   "execution_count": 21,
   "id": "359135df-e227-489b-9f0c-946cb4ded915",
   "metadata": {
    "colab": {
     "base_uri": "https://localhost:8080/"
    },
    "id": "359135df-e227-489b-9f0c-946cb4ded915",
    "outputId": "3bac483f-d8e2-4bad-de97-84a16a50c800"
   },
   "outputs": [
    {
     "name": "stdout",
     "output_type": "stream",
     "text": [
      "318     48762\n",
      "296     37458\n",
      "356     32009\n",
      "260     31385\n",
      "593     30280\n",
      "527     30194\n",
      "2571    30126\n",
      "858     28893\n",
      "50      24679\n",
      "2959    24366\n",
      "Name: movieId, dtype: int64\n"
     ]
    }
   ],
   "source": [
    "# This barplot clearly shows the movie 318 received high ratings (4 stars and more) far more often than \n",
    "# low ratings (2.5 stars and less). Hence, this indicates a great probability this movie will score high\n",
    "# in the ranking of highest ranked movies. Especially the number of times the movie is rated with 5 stars\n",
    "# is prominent, so we further explore this by inspecting the 10 movies which received the 5 stars rating\n",
    "# most often.\n",
    "data2 = df.query('rating == 5')\n",
    "print(data2['movieId'].value_counts().head(10))"
   ]
  },
  {
   "cell_type": "code",
   "execution_count": 22,
   "id": "743760b5-7c5d-41cd-b954-0a3792261d03",
   "metadata": {
    "colab": {
     "base_uri": "https://localhost:8080/"
    },
    "id": "743760b5-7c5d-41cd-b954-0a3792261d03",
    "outputId": "30a10318-ba29-46c6-cfa5-630e7d4e7581"
   },
   "outputs": [
    {
     "name": "stdout",
     "output_type": "stream",
     "text": [
      "          userId  movieId  rating           timestamp\n",
      "107            4      296     5.0 2005-04-17 19:44:16\n",
      "111            4      318     5.0 2005-04-17 19:35:05\n",
      "122            4      356     3.5 2005-04-17 19:44:19\n",
      "781            5      296     5.0 2008-04-24 12:26:50\n",
      "782            5      318     5.0 2008-04-24 12:28:24\n",
      "...          ...      ...     ...                 ...\n",
      "27752884  283222      296     4.5 2004-04-20 03:43:07\n",
      "27752987  283224      296     5.0 1996-12-19 12:17:47\n",
      "27752992  283224      318     4.0 1996-12-19 12:15:27\n",
      "27753002  283224      356     4.0 1996-12-19 12:16:01\n",
      "27753337  283228      356     4.0 2013-09-22 20:46:16\n",
      "\n",
      "[287445 rows x 4 columns]\n"
     ]
    }
   ],
   "source": [
    "# This ranking shows the movie 318 indeed received most often the highest possible ranking. However, \n",
    "# movie 318 is not the only movie to receive the 5 stars rating often. Movie 318, movie 296 and movie 356\n",
    "# together form the top 3 of movies to receive the 5 stars rating most often. We further inspect these movies.\n",
    "top3 = df[df['movieId'].isin([318, 296, 356])]\n",
    "print(top3)"
   ]
  },
  {
   "cell_type": "code",
   "execution_count": 23,
   "id": "b8a8101d-3041-4050-9e4a-329ce968d7d8",
   "metadata": {
    "colab": {
     "base_uri": "https://localhost:8080/",
     "height": 375
    },
    "id": "b8a8101d-3041-4050-9e4a-329ce968d7d8",
    "outputId": "28108148-5611-4992-ef7b-7eec4ae8636b"
   },
   "outputs": [
    {
     "data": {
      "text/plain": [
       "<seaborn.axisgrid.FacetGrid at 0x7fe3ec9553d0>"
      ]
     },
     "execution_count": 23,
     "metadata": {},
     "output_type": "execute_result"
    },
    {
     "data": {
      "image/png": "[encoded data removed]",
      "text/plain": [
       "<Figure size 437.688x360 with 1 Axes>"
      ]
     },
     "metadata": {},
     "output_type": "display_data"
    }
   ],
   "source": [
    "# This table lacks intuition, so it is hard to subtract insights from this. Therefore we construct a kernel \n",
    "# density estimation plot based on this data.\n",
    "sns.displot(top3, x = 'rating', hue = 'movieId', kind = 'kde', palette = ['blue', 'green', 'magenta'])"
   ]
  },
  {
   "cell_type": "code",
   "execution_count": 24,
   "id": "1a788e54-f1f7-4591-beec-d0def47b91fb",
   "metadata": {
    "colab": {
     "base_uri": "https://localhost:8080/"
    },
    "id": "1a788e54-f1f7-4591-beec-d0def47b91fb",
    "outputId": "7732b12d-30ca-4e93-88ae-ac54e3b2ea3f"
   },
   "outputs": [
    {
     "name": "stdout",
     "output_type": "stream",
     "text": [
      "19       1132\n",
      "231      1119\n",
      "2710     1095\n",
      "3593     1088\n",
      "2628     1010\n",
      "260      1002\n",
      "63992     991\n",
      "1562      973\n",
      "4993      946\n",
      "7153      932\n",
      "Name: movieId, dtype: int64\n"
     ]
    }
   ],
   "source": [
    "# This plot is clearly more interpretable than the previous table. It becomes visual that all three movies\n",
    "# receive the 5 stars rating most often, while the second most often given rating for all three movies is\n",
    "# the 4 stars rating and not the 4.5 stars rating. This can be due the to earlier noticed phenomenom that\n",
    "# users are more likely to give .0-ratings than .5-ratings. Another conclusion we can draw based on this plot \n",
    "# is that movies receiving the 5 stars rating often are likely to receive other high ratings often too.\n",
    "# Besides inspecting movies receiving the highest rating most often, it is interesting as well to look at\n",
    "# movies receiving the lowest rating most frequent.\n",
    "data3 = df.query(\"rating == 0.5\")\n",
    "print(data3[\"movieId\"].value_counts().head(10))"
   ]
  },
  {
   "cell_type": "code",
   "execution_count": 25,
   "id": "d1214b4e-ac40-4fa5-9d79-6f386507eb9a",
   "metadata": {
    "colab": {
     "base_uri": "https://localhost:8080/"
    },
    "id": "d1214b4e-ac40-4fa5-9d79-6f386507eb9a",
    "outputId": "67254221-f187-4d33-a88e-622929782158"
   },
   "outputs": [
    {
     "name": "stdout",
     "output_type": "stream",
     "text": [
      "          userId  movieId  rating           timestamp\n",
      "49             4       19     2.0 2005-04-17 19:48:44\n",
      "98             4      231     0.5 2005-04-17 19:45:53\n",
      "398            4     2710     0.5 2005-08-14 03:33:47\n",
      "1468          16      231     3.0 1996-04-15 09:02:46\n",
      "1499          18       19     2.0 1996-10-11 19:17:56\n",
      "...          ...      ...     ...                 ...\n",
      "27752689  283217       19     1.0 1996-05-05 07:10:57\n",
      "27752879  283222       19     2.0 2004-04-20 03:53:09\n",
      "27752957  283224       19     1.0 1996-12-19 12:25:27\n",
      "27753304  283226      231     2.0 2001-09-27 19:45:21\n",
      "27753312  283226     2710     2.0 2001-09-27 19:45:53\n",
      "\n",
      "[85511 rows x 4 columns]\n"
     ]
    }
   ],
   "source": [
    "# This ranking indicates movie 19 received the lowest raking of 0.5 stars with 1,132 times most often.\n",
    "# Movie 231 is the second movie to receive this rating most often, followed by movie 2710. We further \n",
    "# inspect these movies.\n",
    "bottom3 = df[df['movieId'].isin([19, 231, 2710])]\n",
    "print(bottom3)"
   ]
  },
  {
   "cell_type": "code",
   "execution_count": 26,
   "id": "82656a43-fb82-4e0c-a4bc-3717ddc5a6f5",
   "metadata": {
    "colab": {
     "base_uri": "https://localhost:8080/",
     "height": 375
    },
    "id": "82656a43-fb82-4e0c-a4bc-3717ddc5a6f5",
    "outputId": "3d5c4ea2-af74-4ee2-efbb-da7756ab4474"
   },
   "outputs": [
    {
     "data": {
      "text/plain": [
       "<seaborn.axisgrid.FacetGrid at 0x7fe3ec94c9d0>"
      ]
     },
     "execution_count": 26,
     "metadata": {},
     "output_type": "execute_result"
    },
    {
     "data": {
      "image/png": "[encoded data removed]",
      "text/plain": [
       "<Figure size 446.313x360 with 1 Axes>"
      ]
     },
     "metadata": {},
     "output_type": "display_data"
    }
   ],
   "source": [
    "# Just like before, this table is hardly interpretable. Hence, we construct a kernel density estimation plot again.\n",
    "sns.displot(bottom3, x = 'rating', hue = 'movieId', kind = 'kde', palette = ['blue', 'green', 'magenta'])"
   ]
  },
  {
   "cell_type": "code",
   "execution_count": 27,
   "id": "c3d5129b-a28a-4d6b-a6fe-d85dccbd6f0b",
   "metadata": {
    "colab": {
     "base_uri": "https://localhost:8080/",
     "height": 296
    },
    "id": "c3d5129b-a28a-4d6b-a6fe-d85dccbd6f0b",
    "outputId": "850b3296-eb7b-4d00-97c4-8b623b5d1bce"
   },
   "outputs": [
    {
     "data": {
      "text/plain": [
       "<matplotlib.axes._subplots.AxesSubplot at 0x7fe3e9e63c10>"
      ]
     },
     "execution_count": 27,
     "metadata": {},
     "output_type": "execute_result"
    },
    {
     "data": {
      "image/png": "[encoded data removed]",
      "text/plain": [
       "<Figure size 432x288 with 1 Axes>"
      ]
     },
     "metadata": {},
     "output_type": "display_data"
    }
   ],
   "source": [
    "# This plot indicates interesting things. For all three movies, the lines peak at .0-ratings and drop \n",
    "# at .5-ratings, which again indicates users are more likely to give full stars ratings compared to half \n",
    "# stars ratings. On the other hand, despite movie 19, movie 231 and movie 2710 form the top three of movies\n",
    "# receiving the 0.5 stars rating most often, these movies receive other ratings (2 stars, 3 stars and 4 stars)\n",
    "# approximately equally often or even more often. Hence, receiving the lowest rating most often does not\n",
    "# directly imply a movie only receives bad ratings. We further elaborate on this by focusing on movie 19.\n",
    "df.groupby('movieId')['rating'].get_group(19).value_counts().plot(kind = 'bar')"
   ]
  },
  {
   "cell_type": "code",
   "execution_count": 28,
   "id": "6fd1a492-60b8-4493-9ac0-42f9128630ab",
   "metadata": {
    "colab": {
     "base_uri": "https://localhost:8080/"
    },
    "id": "6fd1a492-60b8-4493-9ac0-42f9128630ab",
    "outputId": "fa974837-7187-43e7-cfec-700976e80319"
   },
   "outputs": [
    {
     "data": {
      "text/plain": [
       "2.6420142094488823"
      ]
     },
     "execution_count": 28,
     "metadata": {},
     "output_type": "execute_result"
    }
   ],
   "source": [
    "# This barplot clearly shows movie 19 gets ratings other than the 0.5 stars rating more often than it gets \n",
    "# the 0.5 stars ratings. Hence, concluding that movie 19 is a bad movie solely because it gets the 0.5 stars \n",
    "# rating most often is incorrect. We further inspect this by looking at the average rating of movie 19.\n",
    "df.groupby('movieId')['rating'].get_group(19).mean()"
   ]
  },
  {
   "cell_type": "code",
   "execution_count": 29,
   "id": "7038121e-894d-4d52-8dae-5d63c6f16093",
   "metadata": {
    "colab": {
     "base_uri": "https://localhost:8080/"
    },
    "id": "7038121e-894d-4d52-8dae-5d63c6f16093",
    "outputId": "11d4fc77-5ac9-491e-abb0-0d1fc1f55087"
   },
   "outputs": [
    {
     "data": {
      "text/plain": [
       "123100    23715\n",
       "117490     9279\n",
       "134596     8381\n",
       "212343     7884\n",
       "242683     7515\n",
       "          ...  \n",
       "188125        1\n",
       "117282        1\n",
       "127062        1\n",
       "241836        1\n",
       "265726        1\n",
       "Name: userId, Length: 283228, dtype: int64"
      ]
     },
     "execution_count": 29,
     "metadata": {},
     "output_type": "execute_result"
    }
   ],
   "source": [
    "# With an average rating of approximately 2.5 stars, movie 19 might not be labelled as a good movie,\n",
    "# but it is far better than what might be thought at first when it was shown movie 19 received - out of \n",
    "# all movies - the lowest rating most often. Labelling movie 19 as a mediocre movie is most correct.\n",
    "# Besides looking at most often rated movies or most often given rating, inspecting the user who gave\n",
    "# the most ratings is interesting as well.\n",
    "df['userId'].value_counts()"
   ]
  },
  {
   "cell_type": "code",
   "execution_count": 30,
   "id": "74ba7817-7712-4793-b6dc-ea80c5cd34c1",
   "metadata": {
    "colab": {
     "base_uri": "https://localhost:8080/",
     "height": 296
    },
    "id": "74ba7817-7712-4793-b6dc-ea80c5cd34c1",
    "outputId": "332b6a0d-d7f7-4d06-980d-a3592a85dab3"
   },
   "outputs": [
    {
     "data": {
      "text/plain": [
       "<matplotlib.axes._subplots.AxesSubplot at 0x7fe3e9cf63d0>"
      ]
     },
     "execution_count": 30,
     "metadata": {},
     "output_type": "execute_result"
    },
    {
     "data": {
      "image/png": "[encoded data removed]",
      "text/plain": [
       "<Figure size 432x288 with 1 Axes>"
      ]
     },
     "metadata": {},
     "output_type": "display_data"
    }
   ],
   "source": [
    "# Hence, by looking at the number given ratings by each user, we conclude the user with userId 94843 \n",
    "# (from now on referred to as user 94843) gave the most ratings. We further examine the ratings given by \n",
    "# user 94843 by constructing a barplot on this.\n",
    "df.groupby('userId')['rating'].get_group(94843).value_counts().plot(kind = 'bar')"
   ]
  },
  {
   "cell_type": "code",
   "execution_count": 31,
   "id": "fd05004d-31b2-4ac0-a247-5a19ea126973",
   "metadata": {
    "colab": {
     "base_uri": "https://localhost:8080/",
     "height": 371
    },
    "id": "fd05004d-31b2-4ac0-a247-5a19ea126973",
    "outputId": "363c17e7-e137-495a-a0e4-2d6df27baf54"
   },
   "outputs": [
    {
     "data": {
      "image/png": "[encoded data removed]",
      "text/plain": [
       "<Figure size 432x396 with 1 Axes>"
      ]
     },
     "metadata": {},
     "output_type": "display_data"
    }
   ],
   "source": [
    "# This barplot clearly shows user 94843 tends to negatively rate movies. Ratings of 0.5 stars are obviously\n",
    "# given the most often. The amount of given 0.5 stars ratings is even more than the number of all other \n",
    "# given ratings aggregated.\n",
    "# The next interesting aspect we examine is the relationship between movieId and the number of received ratings. \n",
    "# As seen before, some movies (e.g. movie with movieId 318) received numerous ratings, while other movies \n",
    "# received just one rating. This relationship will be shown by a density plot.\n",
    "def plot_density(df):\n",
    "    \n",
    "    fig, ax = plt.subplots(figsize = (6,5.5))\n",
    "    plot = sns.histplot(df['movieId'], kde = True, ax = ax)\n",
    "\n",
    "plot_density(df)"
   ]
  },
  {
   "cell_type": "code",
   "execution_count": 32,
   "id": "a2a87ed0-d7fd-4e6b-8eb8-aa912a3f971e",
   "metadata": {
    "colab": {
     "base_uri": "https://localhost:8080/",
     "height": 371
    },
    "id": "a2a87ed0-d7fd-4e6b-8eb8-aa912a3f971e",
    "outputId": "faf22b02-a7f8-4453-cfe2-24229127cbf0"
   },
   "outputs": [
    {
     "data": {
      "image/png": "[encoded data removed]",
      "text/plain": [
       "<Figure size 576x396 with 1 Axes>"
      ]
     },
     "metadata": {},
     "output_type": "display_data"
    }
   ],
   "source": [
    "# From this density plot we can observe that movies with a high movieId tend to receive significantly less\n",
    "# ratings than movies with a low movieId. Hence, probability density values differ quite heavily. Therefore, \n",
    "# we will base our recommender system on solely the top-k movies. Which k we will pick, is decided by analysing \n",
    "# a plot with the relative frequency of the top 8,000 items. 8,000 is picked as a cut-off point from the previous\n",
    "# plot.\n",
    "def plot_frequency(df, k):\n",
    "    \n",
    "    fig, ax = plt.subplots(figsize = (8,5.5))\n",
    "    counts = df['movieId'].value_counts(sort = True, ascending = False)\n",
    "    orig = counts.index.tolist()\n",
    "    counts2 = counts.reset_index(inplace = False, drop = True)\n",
    "    sub = counts2.index.tolist()\n",
    "\n",
    "    sns.lineplot(x = counts2.index[0: k], y = counts2[0: k] / counts2[0: k].sum(), ax = ax)\n",
    "    ax.fill_between(counts2.index[0: k], counts2[0: k] / counts2[0: k].sum(), alpha = 0.5)\n",
    "    ax.set_ylabel('relative frequency')\n",
    "    ax.set_xlabel('top-k')\n",
    "\n",
    "plot_frequency(df, k = 8000)"
   ]
  },
  {
   "cell_type": "code",
   "execution_count": 33,
   "id": "5cab5b0a-33bc-4d03-a24a-dde75cf79ac0",
   "metadata": {
    "id": "5cab5b0a-33bc-4d03-a24a-dde75cf79ac0"
   },
   "outputs": [],
   "source": [
    "# This plot shows the relative function of the top 8,000 movies in the dataset. It seems reasonable to\n",
    "# only evaluate the top 4,000 movies since this is a very large dataset and we want to save computational\n",
    "# resources. k is set at 4,000 because this is the smallest integer whose relative frequency almost equalling zero. \n",
    "# In line with this decision, we create a new dataset which only contains the top 4,000 movies.\n",
    "def select(df, k, col):\n",
    "\n",
    "    top_values = df[col].value_counts().nlargest(k)\n",
    "    return df.loc[df[col].isin(top_values.index)]\n",
    "\n",
    "df = select(df, k = 4000, col = 'movieId')"
   ]
  },
  {
   "cell_type": "code",
   "execution_count": 34,
   "id": "676760ab-013e-42e1-97b4-de9d292f78f5",
   "metadata": {
    "colab": {
     "base_uri": "https://localhost:8080/"
    },
    "id": "676760ab-013e-42e1-97b4-de9d292f78f5",
    "outputId": "b1592bf3-4f22-4557-b82a-3cbbaaec06f4"
   },
   "outputs": [
    {
     "name": "stdout",
     "output_type": "stream",
     "text": [
      "Number of unique users: 282727\n",
      "Number of unique movies: 4000\n"
     ]
    }
   ],
   "source": [
    "# As we changed our dataset by only keeping the top 4,000 movies, the number of unique users and movies \n",
    "# is affected. The percentage of missing values will remain 0.0%, so this will not be recalculated.\n",
    "unique_users = len(df['userId'].unique())\n",
    "print('Number of unique users: ' + str(unique_users))\n",
    "\n",
    "unique_movies = len(df['movieId'].unique())\n",
    "print('Number of unique movies: ' + str(unique_movies))"
   ]
  },
  {
   "cell_type": "code",
   "execution_count": 35,
   "id": "41612a5b-33bd-4254-91b1-7dc4b11509bc",
   "metadata": {
    "colab": {
     "base_uri": "https://localhost:8080/"
    },
    "id": "41612a5b-33bd-4254-91b1-7dc4b11509bc",
    "outputId": "c704279f-d603-478d-e231-a058efbb4d2d"
   },
   "outputs": [
    {
     "data": {
      "text/plain": [
       "count    2.497150e+07\n",
       "mean     3.564248e+00\n",
       "std      1.055298e+00\n",
       "min      5.000000e-01\n",
       "25%      3.000000e+00\n",
       "50%      4.000000e+00\n",
       "75%      4.000000e+00\n",
       "max      5.000000e+00\n",
       "Name: rating, dtype: float64"
      ]
     },
     "execution_count": 35,
     "metadata": {},
     "output_type": "execute_result"
    }
   ],
   "source": [
    "# After selecting the top 4,000 movies, 282,727 unique users (out of 283,228) and 4,000 unique movies \n",
    "# (out of 53,889) were left in the dataset. We inspect this new dataset by looking at its descriptive statistics.\n",
    "df['rating'].describe()"
   ]
  },
  {
   "cell_type": "code",
   "execution_count": 36,
   "id": "9eb04cbb-c032-40bc-8e05-2531437e0af6",
   "metadata": {
    "colab": {
     "base_uri": "https://localhost:8080/",
     "height": 307
    },
    "id": "9eb04cbb-c032-40bc-8e05-2531437e0af6",
    "outputId": "e4f49325-8536-4b66-d368-fbe5e4b87dee"
   },
   "outputs": [
    {
     "data": {
      "text/plain": [
       "<matplotlib.axes._subplots.AxesSubplot at 0x7fe3e673efd0>"
      ]
     },
     "execution_count": 36,
     "metadata": {},
     "output_type": "execute_result"
    },
    {
     "data": {
      "image/png": "[encoded data removed]",
      "text/plain": [
       "<Figure size 432x288 with 1 Axes>"
      ]
     },
     "metadata": {},
     "output_type": "display_data"
    }
   ],
   "source": [
    "# Comparing these descriptive statistics leads to the conclusion that only focusing on the top 4,000 movies \n",
    "# positively impacts the statistics on ratings. The mean increases while the standard deviation decreases\n",
    "# and the 2nd quartile (i.e. the median) shifts from 3.5 stars to 4 stars.\n",
    "# The last thing we inspect is the development of average ratings over the years of the top 4,000 movies.\n",
    "df.groupby(df['timestamp'].dt.year)['rating'].mean().plot(kind = 'line')"
   ]
  },
  {
   "cell_type": "code",
   "execution_count": 37,
   "id": "18ec0824-565f-4147-97b0-ace8b1a4bc9a",
   "metadata": {
    "id": "18ec0824-565f-4147-97b0-ace8b1a4bc9a"
   },
   "outputs": [],
   "source": [
    "# Comparing this plot to the plot based on all movies in the dataset yields the conclusion there are no\n",
    "# noteworthy differences between the development of average ratings over time."
   ]
  },
  {
   "cell_type": "markdown",
   "id": "c49bb32f-374a-4c52-a355-ae3d35bcf41e",
   "metadata": {
    "id": "c49bb32f-374a-4c52-a355-ae3d35bcf41e"
   },
   "source": [
    "# PART 2"
   ]
  },
  {
   "cell_type": "code",
   "execution_count": 38,
   "id": "mS4VWnu8Dfnk",
   "metadata": {
    "colab": {
     "base_uri": "https://localhost:8080/"
    },
    "id": "mS4VWnu8Dfnk",
    "outputId": "1ed5e9e4-c601-47f7-e7ee-fbd87127c833"
   },
   "outputs": [
    {
     "name": "stdout",
     "output_type": "stream",
     "text": [
      "      movieId  n_rows\n",
      "0           1      42\n",
      "1           2      17\n",
      "2           3      10\n",
      "3           4       2\n",
      "4           5      10\n",
      "...       ...     ...\n",
      "3995   177765       2\n",
      "3996   179401       1\n",
      "3997   179819       2\n",
      "3998   180031       1\n",
      "3999   187593       1\n",
      "\n",
      "[4000 rows x 2 columns]\n"
     ]
    }
   ],
   "source": [
    "# During running the code for second part of the project (building algorithms), we have encountered a great\n",
    "# issue with the size of the dataset. Running the code for the whole dataset resulted each time in crashing the\n",
    "# program due to insufficient memory. As a result, we have tried to use a sample of the data.\n",
    "# Unfortunately, using 25%, 1% or even 0.1% did not help and we still encountered a RAM problem, using both\n",
    "# Jupyter notebook as well as Google Colab. After many trials we have found that the algorithms work when\n",
    "# we are using around 15,000 rows of the dataset. Therefore, we have created a subset of the dataset that contains\n",
    "# around 15,000 rows. In order to create a representative sample, we have checked what percentage of the dataset\n",
    "# each movie takes so that we could create a subset which also follows that distribution. Based on that we have\n",
    "# calculated how many instances each movieId will get in the subset.  \n",
    "\n",
    "#number of rows of the dataset\n",
    "rows = len(df)\n",
    "\n",
    "#frequency of each movie\n",
    "freq = pd.crosstab(index=df['movieId'], columns='count')\n",
    "\n",
    "#list with frequencies\n",
    "count = freq['count'].values.tolist()\n",
    "\n",
    "#list with movieIds\n",
    "movie = freq.index.tolist()\n",
    "\n",
    "#probability of each movieId\n",
    "probability = [x / rows for x in count]\n",
    "\n",
    "#amount of times each movie will be presented when using 15k rows\n",
    "import math\n",
    "subset = [math.ceil(x * 15000) for x in probability]\n",
    "\n",
    "#creating subset containing movieId and number of records it will occupy in the subset\n",
    "movies_distr = pd.DataFrame(\n",
    "    {'movieId':movie,\n",
    "     'n_rows': subset})\n",
    "print(movies_distr)"
   ]
  },
  {
   "cell_type": "code",
   "execution_count": 39,
   "id": "f2S66UsYT8ty",
   "metadata": {
    "colab": {
     "base_uri": "https://localhost:8080/"
    },
    "id": "f2S66UsYT8ty",
    "outputId": "f2ea0f71-10ab-49d0-dfc7-434953c83ec5"
   },
   "outputs": [
    {
     "name": "stdout",
     "output_type": "stream",
     "text": [
      "          userId  movieId  rating           timestamp\n",
      "15618266  159458        1     3.0 2008-10-24 09:20:45\n",
      "17188643  175611        1     3.0 2000-11-19 04:02:47\n",
      "12870791  131757        1     3.0 2008-03-29 21:29:33\n",
      "25631900  261852        1     3.5 2009-09-27 00:48:51\n",
      "8355291    86008        1     4.0 2005-04-01 16:21:35\n",
      "...          ...      ...     ...                 ...\n",
      "18982877  193681   179401     5.0 2018-06-15 23:10:32\n",
      "15464949  157983   179819     4.0 2017-12-29 21:03:21\n",
      "11944844  122608   179819     5.0 2018-06-05 17:11:07\n",
      "16618391  170008   180031     4.5 2018-07-22 02:32:08\n",
      "3948752    40692   187593     4.0 2018-07-14 16:29:25\n",
      "\n",
      "[16851 rows x 4 columns]\n",
      "<class 'pandas.core.frame.DataFrame'>\n",
      "Int64Index: 16851 entries, 15618266 to 3948752\n",
      "Data columns (total 4 columns):\n",
      " #   Column     Non-Null Count  Dtype         \n",
      "---  ------     --------------  -----         \n",
      " 0   userId     16851 non-null  int64         \n",
      " 1   movieId    16851 non-null  int64         \n",
      " 2   rating     16851 non-null  float64       \n",
      " 3   timestamp  16851 non-null  datetime64[ns]\n",
      "dtypes: datetime64[ns](1), float64(1), int64(2)\n",
      "memory usage: 658.2 KB\n"
     ]
    }
   ],
   "source": [
    "# After obtaining the dataframe with movieIds and frequencies, we have created an actual subset\n",
    "# which follows the distribution of the dataset where k=4000 (so already the subset that we wanted to work on, \n",
    "# but which was too big to run the algorithms on). The code used below was sourced from a website\n",
    "# https://stackoverflow.com/questions/33097167/sampling-a-dataframe-based-on-a-given-distribution and adapted\n",
    "# to our needs.\n",
    "\n",
    "def bootstrap(data, freq):\n",
    "    freq = freq.set_index('movieId')\n",
    "\n",
    "    def sampleClass(classgroup):\n",
    "        cls = classgroup['movieId'].iloc[0]\n",
    "        nDesired = freq.n_rows[cls]\n",
    "        nRows = len(classgroup)\n",
    "\n",
    "        nSamples = min(nRows, nDesired)\n",
    "        return classgroup.sample(nSamples)\n",
    "\n",
    "    samples = data.groupby('movieId').apply(sampleClass)\n",
    "\n",
    "    samples.index = samples.index.get_level_values(1)\n",
    "\n",
    "    return samples\n",
    "\n",
    "df_sample = bootstrap(df,movies_distr)\n",
    "print(df_sample)\n",
    "df_sample.info()"
   ]
  },
  {
   "cell_type": "code",
   "execution_count": 40,
   "id": "1e371d43-d8ae-4963-96bc-ed9c9f52101a",
   "metadata": {
    "colab": {
     "base_uri": "https://localhost:8080/"
    },
    "id": "1e371d43-d8ae-4963-96bc-ed9c9f52101a",
    "outputId": "6e805205-e17e-4fcf-857b-0e5e41a67e45"
   },
   "outputs": [
    {
     "data": {
      "text/plain": [
       "count    16851.000000\n",
       "mean         3.551777\n",
       "std          1.067112\n",
       "min          0.500000\n",
       "25%          3.000000\n",
       "50%          4.000000\n",
       "75%          4.000000\n",
       "max          5.000000\n",
       "Name: rating, dtype: float64"
      ]
     },
     "execution_count": 40,
     "metadata": {},
     "output_type": "execute_result"
    }
   ],
   "source": [
    "# Analyzing descriptive statistic shows that the values don't differ \n",
    "# significantly from the values of the original dataset. \n",
    "df_sample['rating'].describe()"
   ]
  },
  {
   "cell_type": "code",
   "execution_count": 41,
   "id": "410ccdc1-9977-4d22-8d92-2eeb308250be",
   "metadata": {
    "id": "410ccdc1-9977-4d22-8d92-2eeb308250be"
   },
   "outputs": [],
   "source": [
    "df = df_sample"
   ]
  },
  {
   "cell_type": "code",
   "execution_count": 42,
   "id": "f7ce1723-664e-47d7-a4b6-e0364b66b01a",
   "metadata": {
    "id": "f7ce1723-664e-47d7-a4b6-e0364b66b01a"
   },
   "outputs": [],
   "source": [
    "# A reader is still needed but only the rating_scale param is required.\n",
    "# We set the rating_scale param to 0.5-5 since users can rate movies from 0.5 star to 5 stars\n",
    "reader = Reader(rating_scale=(0.5, 5))\n",
    "\n",
    "# The columns must correspond to user id, item id and ratings (in that order).\n",
    "data = Dataset.load_from_df(df[['userId', 'movieId', 'rating']], reader)"
   ]
  },
  {
   "cell_type": "markdown",
   "id": "bd1f9463-a5b3-4553-89d8-d2d70b9e500e",
   "metadata": {
    "id": "bd1f9463-a5b3-4553-89d8-d2d70b9e500e"
   },
   "source": [
    "**Baseline model**"
   ]
  },
  {
   "cell_type": "code",
   "execution_count": 43,
   "id": "caf4205d-3b11-4f95-b254-67def0d10add",
   "metadata": {
    "colab": {
     "base_uri": "https://localhost:8080/"
    },
    "id": "caf4205d-3b11-4f95-b254-67def0d10add",
    "outputId": "7ef3e717-fcbd-4755-9753-04f0a461f3b7"
   },
   "outputs": [
    {
     "data": {
      "text/plain": [
       "{'test_rmse': array([1.44774466, 1.44319323, 1.46235144, 1.47045311, 1.48217328]),\n",
       " 'train_rmse': array([1.45421798, 1.45040305, 1.4480146 , 1.46671274, 1.45103343]),\n",
       " 'test_mae': array([1.15851759, 1.14412097, 1.16470794, 1.17586253, 1.18666606]),\n",
       " 'train_mae': array([1.15880524, 1.15356109, 1.15559413, 1.16723363, 1.15627838]),\n",
       " 'fit_time': (0.01422572135925293,\n",
       "  0.013419866561889648,\n",
       "  0.01762247085571289,\n",
       "  0.017505645751953125,\n",
       "  0.016684293746948242),\n",
       " 'test_time': (0.023563146591186523,\n",
       "  0.024448633193969727,\n",
       "  0.025550127029418945,\n",
       "  0.023365259170532227,\n",
       "  0.022161483764648438)}"
      ]
     },
     "execution_count": 43,
     "metadata": {},
     "output_type": "execute_result"
    }
   ],
   "source": [
    "cross_validate(NormalPredictor(), data, cv=5, return_train_measures=True)"
   ]
  },
  {
   "cell_type": "markdown",
   "id": "3ebeb505-3f5a-47f6-9c03-35f76238377a",
   "metadata": {
    "id": "3ebeb505-3f5a-47f6-9c03-35f76238377a"
   },
   "source": [
    "**Neighborhood method**"
   ]
  },
  {
   "cell_type": "markdown",
   "id": "8Bxv3Wh5EOVp",
   "metadata": {
    "id": "8Bxv3Wh5EOVp"
   },
   "source": [
    "The first method that has been chosen is the k Nearest Neighbors inspired k-NN with z-score. K-NN algorithms choose the label of the unclassified data based on the label that the majority of the k-nearest neighbors have. K-NN with z-score uses z-score normalization of each user.\n",
    "\n",
    "Normalization is used in order to remove outliers. It subtracts population mean from all of the points in the dataset and divides that value by population standard deviation.\n",
    "The algorithm consists of a few hyperparameters that can be tuned:\n",
    "\n",
    "\n",
    "\n",
    "*   The maximal number of neighbors (k) that are taken into account. It describes the maximal number of neighbors that are considered when deciding on the class of unlabeled data. The default is set to 40.\n",
    "*   The minimum number of neighbors (min_k) that are taken into account. It describes the minimum number of neighbors that are considered when deciding on the class of unlabeled data. The default is set to 1.\n",
    "*   The similarity metrics (sim_options) that are used to compute the similarity between all pairs of users or items. In k-nn they are used to determine the distance between the neighbors. There are four available metrics: \n",
    "    * Cosine similarity is the cosine of the angle between two vectors and is used as a distence between two points on the vectors. As the value increases, the similarity decreases. \n",
    "    * Mean Squared Difference similarity is based on the geometrical principles of the Euclidean distance .\n",
    "    * Pearson correlation coefficient can be described as a mean-centered cosine similarity. \n",
    "    * Shrunk Pearson correliation coefficient with baselines used for centering instead of means. The shrinkage parameter helps to avoid overfitting when only few ratings are available.\n",
    "* Another setting under the similarity measure configuration is the \"user_based\" setting. This variable takes a boolean value and when set to True it will compute similarities between users and when set to False it will compute similarity between items.\n",
    "*  Verbose which defines if the program should print trace messages of bias estimation, similarity, etc.\n",
    "\n"
   ]
  },
  {
   "cell_type": "code",
   "execution_count": 44,
   "id": "7c6595d7-d547-4f9a-891e-6372efc6bb31",
   "metadata": {
    "id": "7c6595d7-d547-4f9a-891e-6372efc6bb31"
   },
   "outputs": [],
   "source": [
    "from surprise import KNNWithZScore\n",
    "from surprise.model_selection import GridSearchCV"
   ]
  },
  {
   "cell_type": "markdown",
   "id": "hZNgItYWGFkZ",
   "metadata": {
    "id": "hZNgItYWGFkZ"
   },
   "source": [
    "**Hyper-parameters**\n",
    "\n",
    "\n",
    "We use grid search to find which hyperparameter values are best to use. The grid search tries every possible combination of the hyperparameters and returns the best combination in the end. When tuning the hyperparameters for the KNNwithZscore method with the grid search we used the following parameters: k, min_k, user-based and the distance function.\n",
    "\n",
    "The default setting for maximal number of neighbours (k), minimum number of neighbours (min_k), (user_based) and the name of the similarity metric are 40, 1, True and MSD. However, that might be not the optimal setting\n",
    "for our data, we will make two configurations when doing hyperparameter tuning. As the possible options for similarity metrics are cosine, Mean Square Difference, Pearson and baseline Pearson, we will divide them between two configurations such that each configuration is going to choose metrics from two options (cosine vs msd and pearson vs baseline pearson). Values for maximal and minimal number of neighbours have been chosen randomly. The first configuration uses the following values: for the maximal number of neighbours 10, 20 and 30, for the minimum number of neighbours 1, 2, 3, 4 and 5, for user_based True and False, and for the similarity metric we'll be looking at cosine and Mean Square Difference (msd). "
   ]
  },
  {
   "cell_type": "code",
   "execution_count": 45,
   "id": "RcbwW99BiulD",
   "metadata": {
    "id": "RcbwW99BiulD"
   },
   "outputs": [],
   "source": [
    "# First we write down the parameters we want the grid search to consider.\n",
    "param_grid = {\"k\": [10,20,30], \n",
    "              \"min_k\": [1,2,3,4,5], \n",
    "              \"user_based\": [True, False],\n",
    "             \" name\": [\"cosine\", \"msd\"],\n",
    "             } "
   ]
  },
  {
   "cell_type": "code",
   "execution_count": 46,
   "id": "M-ngim1Vizyn",
   "metadata": {
    "colab": {
     "base_uri": "https://localhost:8080/"
    },
    "id": "M-ngim1Vizyn",
    "outputId": "8bafb7cd-d612-4e7c-8706-72188e3d2b34"
   },
   "outputs": [
    {
     "name": "stdout",
     "output_type": "stream",
     "text": [
      "Computing the msd similarity matrix...\n",
      "Done computing similarity matrix.\n",
      "Computing the msd similarity matrix...\n",
      "Done computing similarity matrix.\n",
      "Computing the msd similarity matrix...\n",
      "Done computing similarity matrix.\n",
      "Computing the msd similarity matrix...\n",
      "Done computing similarity matrix.\n",
      "Computing the msd similarity matrix...\n",
      "Done computing similarity matrix.\n",
      "Computing the msd similarity matrix...\n",
      "Done computing similarity matrix.\n",
      "Computing the msd similarity matrix...\n",
      "Done computing similarity matrix.\n",
      "Computing the msd similarity matrix...\n",
      "Done computing similarity matrix.\n",
      "Computing the msd similarity matrix...\n",
      "Done computing similarity matrix.\n",
      "Computing the msd similarity matrix...\n",
      "Done computing similarity matrix.\n",
      "Computing the msd similarity matrix...\n",
      "Done computing similarity matrix.\n",
      "Computing the msd similarity matrix...\n",
      "Done computing similarity matrix.\n",
      "Computing the msd similarity matrix...\n",
      "Done computing similarity matrix.\n",
      "Computing the msd similarity matrix...\n",
      "Done computing similarity matrix.\n",
      "Computing the msd similarity matrix...\n",
      "Done computing similarity matrix.\n",
      "Computing the msd similarity matrix...\n",
      "Done computing similarity matrix.\n",
      "Computing the msd similarity matrix...\n",
      "Done computing similarity matrix.\n",
      "Computing the msd similarity matrix...\n",
      "Done computing similarity matrix.\n",
      "Computing the msd similarity matrix...\n",
      "Done computing similarity matrix.\n",
      "Computing the msd similarity matrix...\n",
      "Done computing similarity matrix.\n",
      "Computing the msd similarity matrix...\n",
      "Done computing similarity matrix.\n",
      "Computing the msd similarity matrix...\n",
      "Done computing similarity matrix.\n",
      "Computing the msd similarity matrix...\n",
      "Done computing similarity matrix.\n",
      "Computing the msd similarity matrix...\n",
      "Done computing similarity matrix.\n",
      "Computing the msd similarity matrix...\n",
      "Done computing similarity matrix.\n",
      "Computing the msd similarity matrix...\n",
      "Done computing similarity matrix.\n",
      "Computing the msd similarity matrix...\n",
      "Done computing similarity matrix.\n",
      "Computing the msd similarity matrix...\n",
      "Done computing similarity matrix.\n",
      "Computing the msd similarity matrix...\n",
      "Done computing similarity matrix.\n",
      "Computing the msd similarity matrix...\n",
      "Done computing similarity matrix.\n",
      "Computing the msd similarity matrix...\n",
      "Done computing similarity matrix.\n",
      "Computing the msd similarity matrix...\n",
      "Done computing similarity matrix.\n",
      "Computing the msd similarity matrix...\n",
      "Done computing similarity matrix.\n",
      "Computing the msd similarity matrix...\n",
      "Done computing similarity matrix.\n",
      "Computing the msd similarity matrix...\n",
      "Done computing similarity matrix.\n",
      "Computing the msd similarity matrix...\n",
      "Done computing similarity matrix.\n",
      "Computing the msd similarity matrix...\n",
      "Done computing similarity matrix.\n",
      "Computing the msd similarity matrix...\n",
      "Done computing similarity matrix.\n",
      "Computing the msd similarity matrix...\n",
      "Done computing similarity matrix.\n",
      "Computing the msd similarity matrix...\n",
      "Done computing similarity matrix.\n",
      "Computing the msd similarity matrix...\n",
      "Done computing similarity matrix.\n",
      "Computing the msd similarity matrix...\n",
      "Done computing similarity matrix.\n",
      "Computing the msd similarity matrix...\n",
      "Done computing similarity matrix.\n",
      "Computing the msd similarity matrix...\n",
      "Done computing similarity matrix.\n",
      "Computing the msd similarity matrix...\n",
      "Done computing similarity matrix.\n",
      "Computing the msd similarity matrix...\n",
      "Done computing similarity matrix.\n",
      "Computing the msd similarity matrix...\n",
      "Done computing similarity matrix.\n",
      "Computing the msd similarity matrix...\n",
      "Done computing similarity matrix.\n",
      "Computing the msd similarity matrix...\n",
      "Done computing similarity matrix.\n",
      "Computing the msd similarity matrix...\n",
      "Done computing similarity matrix.\n",
      "Computing the msd similarity matrix...\n",
      "Done computing similarity matrix.\n",
      "Computing the msd similarity matrix...\n",
      "Done computing similarity matrix.\n",
      "Computing the msd similarity matrix...\n",
      "Done computing similarity matrix.\n",
      "Computing the msd similarity matrix...\n",
      "Done computing similarity matrix.\n",
      "Computing the msd similarity matrix...\n",
      "Done computing similarity matrix.\n",
      "Computing the msd similarity matrix...\n",
      "Done computing similarity matrix.\n",
      "Computing the msd similarity matrix...\n",
      "Done computing similarity matrix.\n",
      "Computing the msd similarity matrix...\n",
      "Done computing similarity matrix.\n",
      "Computing the msd similarity matrix...\n",
      "Done computing similarity matrix.\n",
      "Computing the msd similarity matrix...\n",
      "Done computing similarity matrix.\n",
      "Computing the msd similarity matrix...\n",
      "Done computing similarity matrix.\n",
      "Computing the msd similarity matrix...\n",
      "Done computing similarity matrix.\n",
      "Computing the msd similarity matrix...\n",
      "Done computing similarity matrix.\n",
      "Computing the msd similarity matrix...\n",
      "Done computing similarity matrix.\n",
      "Computing the msd similarity matrix...\n",
      "Done computing similarity matrix.\n",
      "Computing the msd similarity matrix...\n",
      "Done computing similarity matrix.\n",
      "Computing the msd similarity matrix...\n",
      "Done computing similarity matrix.\n",
      "Computing the msd similarity matrix...\n",
      "Done computing similarity matrix.\n",
      "Computing the msd similarity matrix...\n",
      "Done computing similarity matrix.\n",
      "Computing the msd similarity matrix...\n",
      "Done computing similarity matrix.\n",
      "Computing the msd similarity matrix...\n",
      "Done computing similarity matrix.\n",
      "Computing the msd similarity matrix...\n",
      "Done computing similarity matrix.\n",
      "Computing the msd similarity matrix...\n",
      "Done computing similarity matrix.\n",
      "Computing the msd similarity matrix...\n",
      "Done computing similarity matrix.\n",
      "Computing the msd similarity matrix...\n",
      "Done computing similarity matrix.\n",
      "Computing the msd similarity matrix...\n",
      "Done computing similarity matrix.\n",
      "Computing the msd similarity matrix...\n",
      "Done computing similarity matrix.\n",
      "Computing the msd similarity matrix...\n",
      "Done computing similarity matrix.\n",
      "Computing the msd similarity matrix...\n",
      "Done computing similarity matrix.\n",
      "Computing the msd similarity matrix...\n",
      "Done computing similarity matrix.\n",
      "Computing the msd similarity matrix...\n",
      "Done computing similarity matrix.\n",
      "Computing the msd similarity matrix...\n",
      "Done computing similarity matrix.\n",
      "Computing the msd similarity matrix...\n",
      "Done computing similarity matrix.\n",
      "Computing the msd similarity matrix...\n",
      "Done computing similarity matrix.\n",
      "Computing the msd similarity matrix...\n",
      "Done computing similarity matrix.\n",
      "Computing the msd similarity matrix...\n",
      "Done computing similarity matrix.\n",
      "Computing the msd similarity matrix...\n",
      "Done computing similarity matrix.\n",
      "Computing the msd similarity matrix...\n",
      "Done computing similarity matrix.\n",
      "Computing the msd similarity matrix...\n",
      "Done computing similarity matrix.\n",
      "Computing the msd similarity matrix...\n",
      "Done computing similarity matrix.\n",
      "Computing the msd similarity matrix...\n",
      "Done computing similarity matrix.\n",
      "Computing the msd similarity matrix...\n",
      "Done computing similarity matrix.\n",
      "Computing the msd similarity matrix...\n",
      "Done computing similarity matrix.\n",
      "Computing the msd similarity matrix...\n",
      "Done computing similarity matrix.\n",
      "Computing the msd similarity matrix...\n",
      "Done computing similarity matrix.\n",
      "Computing the msd similarity matrix...\n",
      "Done computing similarity matrix.\n",
      "Computing the msd similarity matrix...\n",
      "Done computing similarity matrix.\n",
      "Computing the msd similarity matrix...\n",
      "Done computing similarity matrix.\n",
      "Computing the msd similarity matrix...\n",
      "Done computing similarity matrix.\n",
      "Computing the msd similarity matrix...\n",
      "Done computing similarity matrix.\n",
      "Computing the msd similarity matrix...\n",
      "Done computing similarity matrix.\n",
      "Computing the msd similarity matrix...\n",
      "Done computing similarity matrix.\n",
      "Computing the msd similarity matrix...\n",
      "Done computing similarity matrix.\n",
      "Computing the msd similarity matrix...\n",
      "Done computing similarity matrix.\n",
      "Computing the msd similarity matrix...\n",
      "Done computing similarity matrix.\n",
      "Computing the msd similarity matrix...\n",
      "Done computing similarity matrix.\n",
      "Computing the msd similarity matrix...\n",
      "Done computing similarity matrix.\n",
      "Computing the msd similarity matrix...\n",
      "Done computing similarity matrix.\n",
      "Computing the msd similarity matrix...\n",
      "Done computing similarity matrix.\n",
      "Computing the msd similarity matrix...\n",
      "Done computing similarity matrix.\n",
      "Computing the msd similarity matrix...\n",
      "Done computing similarity matrix.\n",
      "Computing the msd similarity matrix...\n",
      "Done computing similarity matrix.\n",
      "Computing the msd similarity matrix...\n",
      "Done computing similarity matrix.\n",
      "Computing the msd similarity matrix...\n",
      "Done computing similarity matrix.\n",
      "Computing the msd similarity matrix...\n",
      "Done computing similarity matrix.\n",
      "Computing the msd similarity matrix...\n",
      "Done computing similarity matrix.\n",
      "Computing the msd similarity matrix...\n",
      "Done computing similarity matrix.\n",
      "Computing the msd similarity matrix...\n",
      "Done computing similarity matrix.\n",
      "Computing the msd similarity matrix...\n",
      "Done computing similarity matrix.\n",
      "Computing the msd similarity matrix...\n",
      "Done computing similarity matrix.\n",
      "Computing the msd similarity matrix...\n",
      "Done computing similarity matrix.\n",
      "Computing the msd similarity matrix...\n",
      "Done computing similarity matrix.\n",
      "Computing the msd similarity matrix...\n",
      "Done computing similarity matrix.\n",
      "Computing the msd similarity matrix...\n",
      "Done computing similarity matrix.\n",
      "Computing the msd similarity matrix...\n",
      "Done computing similarity matrix.\n",
      "Computing the msd similarity matrix...\n",
      "Done computing similarity matrix.\n",
      "Computing the msd similarity matrix...\n",
      "Done computing similarity matrix.\n",
      "Computing the msd similarity matrix...\n",
      "Done computing similarity matrix.\n",
      "Computing the msd similarity matrix...\n",
      "Done computing similarity matrix.\n",
      "Computing the msd similarity matrix...\n",
      "Done computing similarity matrix.\n",
      "Computing the msd similarity matrix...\n",
      "Done computing similarity matrix.\n",
      "Computing the msd similarity matrix...\n",
      "Done computing similarity matrix.\n",
      "Computing the msd similarity matrix...\n",
      "Done computing similarity matrix.\n",
      "Computing the msd similarity matrix...\n",
      "Done computing similarity matrix.\n",
      "Computing the msd similarity matrix...\n",
      "Done computing similarity matrix.\n",
      "Computing the msd similarity matrix...\n",
      "Done computing similarity matrix.\n",
      "Computing the msd similarity matrix...\n",
      "Done computing similarity matrix.\n",
      "Computing the msd similarity matrix...\n",
      "Done computing similarity matrix.\n",
      "Computing the msd similarity matrix...\n",
      "Done computing similarity matrix.\n",
      "Computing the msd similarity matrix...\n",
      "Done computing similarity matrix.\n",
      "Computing the msd similarity matrix...\n",
      "Done computing similarity matrix.\n",
      "Computing the msd similarity matrix...\n",
      "Done computing similarity matrix.\n",
      "Computing the msd similarity matrix...\n",
      "Done computing similarity matrix.\n",
      "Computing the msd similarity matrix...\n",
      "Done computing similarity matrix.\n",
      "Computing the msd similarity matrix...\n",
      "Done computing similarity matrix.\n",
      "Computing the msd similarity matrix...\n",
      "Done computing similarity matrix.\n",
      "Computing the msd similarity matrix...\n",
      "Done computing similarity matrix.\n",
      "Computing the msd similarity matrix...\n",
      "Done computing similarity matrix.\n",
      "Computing the msd similarity matrix...\n",
      "Done computing similarity matrix.\n",
      "Computing the msd similarity matrix...\n",
      "Done computing similarity matrix.\n",
      "Computing the msd similarity matrix...\n",
      "Done computing similarity matrix.\n",
      "Computing the msd similarity matrix...\n",
      "Done computing similarity matrix.\n",
      "Computing the msd similarity matrix...\n",
      "Done computing similarity matrix.\n",
      "Computing the msd similarity matrix...\n",
      "Done computing similarity matrix.\n",
      "Computing the msd similarity matrix...\n",
      "Done computing similarity matrix.\n",
      "Computing the msd similarity matrix...\n",
      "Done computing similarity matrix.\n",
      "Computing the msd similarity matrix...\n",
      "Done computing similarity matrix.\n",
      "Computing the msd similarity matrix...\n",
      "Done computing similarity matrix.\n",
      "Computing the msd similarity matrix...\n",
      "Done computing similarity matrix.\n",
      "Computing the msd similarity matrix...\n",
      "Done computing similarity matrix.\n",
      "Computing the msd similarity matrix...\n",
      "Done computing similarity matrix.\n",
      "Computing the msd similarity matrix...\n",
      "Done computing similarity matrix.\n",
      "Computing the msd similarity matrix...\n",
      "Done computing similarity matrix.\n",
      "Computing the msd similarity matrix...\n",
      "Done computing similarity matrix.\n",
      "Computing the msd similarity matrix...\n",
      "Done computing similarity matrix.\n",
      "Computing the msd similarity matrix...\n",
      "Done computing similarity matrix.\n",
      "Computing the msd similarity matrix...\n",
      "Done computing similarity matrix.\n",
      "Computing the msd similarity matrix...\n",
      "Done computing similarity matrix.\n",
      "Computing the msd similarity matrix...\n",
      "Done computing similarity matrix.\n",
      "Computing the msd similarity matrix...\n",
      "Done computing similarity matrix.\n",
      "Computing the msd similarity matrix...\n",
      "Done computing similarity matrix.\n",
      "Computing the msd similarity matrix...\n",
      "Done computing similarity matrix.\n",
      "Computing the msd similarity matrix...\n",
      "Done computing similarity matrix.\n",
      "Computing the msd similarity matrix...\n",
      "Done computing similarity matrix.\n",
      "Computing the msd similarity matrix...\n",
      "Done computing similarity matrix.\n",
      "Computing the msd similarity matrix...\n",
      "Done computing similarity matrix.\n",
      "Computing the msd similarity matrix...\n",
      "Done computing similarity matrix.\n",
      "Computing the msd similarity matrix...\n",
      "Done computing similarity matrix.\n",
      "Computing the msd similarity matrix...\n",
      "Done computing similarity matrix.\n",
      "Computing the msd similarity matrix...\n",
      "Done computing similarity matrix.\n",
      "Computing the msd similarity matrix...\n",
      "Done computing similarity matrix.\n",
      "Computing the msd similarity matrix...\n",
      "Done computing similarity matrix.\n",
      "Computing the msd similarity matrix...\n",
      "Done computing similarity matrix.\n",
      "Computing the msd similarity matrix...\n",
      "Done computing similarity matrix.\n",
      "Computing the msd similarity matrix...\n",
      "Done computing similarity matrix.\n",
      "Computing the msd similarity matrix...\n",
      "Done computing similarity matrix.\n",
      "Computing the msd similarity matrix...\n",
      "Done computing similarity matrix.\n",
      "Computing the msd similarity matrix...\n",
      "Done computing similarity matrix.\n",
      "Computing the msd similarity matrix...\n",
      "Done computing similarity matrix.\n",
      "Computing the msd similarity matrix...\n",
      "Done computing similarity matrix.\n",
      "Computing the msd similarity matrix...\n",
      "Done computing similarity matrix.\n",
      "Computing the msd similarity matrix...\n",
      "Done computing similarity matrix.\n",
      "Computing the msd similarity matrix...\n",
      "Done computing similarity matrix.\n",
      "Computing the msd similarity matrix...\n",
      "Done computing similarity matrix.\n",
      "Computing the msd similarity matrix...\n",
      "Done computing similarity matrix.\n",
      "Computing the msd similarity matrix...\n",
      "Done computing similarity matrix.\n",
      "Computing the msd similarity matrix...\n",
      "Done computing similarity matrix.\n",
      "Computing the msd similarity matrix...\n",
      "Done computing similarity matrix.\n",
      "Computing the msd similarity matrix...\n",
      "Done computing similarity matrix.\n",
      "Computing the msd similarity matrix...\n",
      "Done computing similarity matrix.\n",
      "Computing the msd similarity matrix...\n",
      "Done computing similarity matrix.\n",
      "Computing the msd similarity matrix...\n",
      "Done computing similarity matrix.\n",
      "Computing the msd similarity matrix...\n",
      "Done computing similarity matrix.\n",
      "Computing the msd similarity matrix...\n",
      "Done computing similarity matrix.\n",
      "Computing the msd similarity matrix...\n",
      "Done computing similarity matrix.\n",
      "Computing the msd similarity matrix...\n",
      "Done computing similarity matrix.\n",
      "Computing the msd similarity matrix...\n",
      "Done computing similarity matrix.\n",
      "Computing the msd similarity matrix...\n",
      "Done computing similarity matrix.\n",
      "Computing the msd similarity matrix...\n",
      "Done computing similarity matrix.\n",
      "Computing the msd similarity matrix...\n",
      "Done computing similarity matrix.\n",
      "Computing the msd similarity matrix...\n",
      "Done computing similarity matrix.\n",
      "Computing the msd similarity matrix...\n",
      "Done computing similarity matrix.\n",
      "Computing the msd similarity matrix...\n",
      "Done computing similarity matrix.\n",
      "Computing the msd similarity matrix...\n",
      "Done computing similarity matrix.\n",
      "Computing the msd similarity matrix...\n",
      "Done computing similarity matrix.\n",
      "Computing the msd similarity matrix...\n",
      "Done computing similarity matrix.\n",
      "Computing the msd similarity matrix...\n",
      "Done computing similarity matrix.\n",
      "Computing the msd similarity matrix...\n",
      "Done computing similarity matrix.\n",
      "Computing the msd similarity matrix...\n",
      "Done computing similarity matrix.\n",
      "Computing the msd similarity matrix...\n",
      "Done computing similarity matrix.\n",
      "Computing the msd similarity matrix...\n",
      "Done computing similarity matrix.\n",
      "Computing the msd similarity matrix...\n",
      "Done computing similarity matrix.\n",
      "Computing the msd similarity matrix...\n",
      "Done computing similarity matrix.\n",
      "Computing the msd similarity matrix...\n",
      "Done computing similarity matrix.\n",
      "Computing the msd similarity matrix...\n",
      "Done computing similarity matrix.\n",
      "Computing the msd similarity matrix...\n",
      "Done computing similarity matrix.\n",
      "Computing the msd similarity matrix...\n",
      "Done computing similarity matrix.\n",
      "Computing the msd similarity matrix...\n",
      "Done computing similarity matrix.\n",
      "Computing the msd similarity matrix...\n",
      "Done computing similarity matrix.\n",
      "Computing the msd similarity matrix...\n",
      "Done computing similarity matrix.\n",
      "Computing the msd similarity matrix...\n",
      "Done computing similarity matrix.\n",
      "Computing the msd similarity matrix...\n",
      "Done computing similarity matrix.\n",
      "Computing the msd similarity matrix...\n",
      "Done computing similarity matrix.\n",
      "Computing the msd similarity matrix...\n",
      "Done computing similarity matrix.\n",
      "Computing the msd similarity matrix...\n",
      "Done computing similarity matrix.\n",
      "Computing the msd similarity matrix...\n",
      "Done computing similarity matrix.\n",
      "Computing the msd similarity matrix...\n",
      "Done computing similarity matrix.\n",
      "Computing the msd similarity matrix...\n",
      "Done computing similarity matrix.\n",
      "Computing the msd similarity matrix...\n",
      "Done computing similarity matrix.\n",
      "Computing the msd similarity matrix...\n",
      "Done computing similarity matrix.\n",
      "Computing the msd similarity matrix...\n",
      "Done computing similarity matrix.\n",
      "Computing the msd similarity matrix...\n",
      "Done computing similarity matrix.\n",
      "Computing the msd similarity matrix...\n",
      "Done computing similarity matrix.\n",
      "Computing the msd similarity matrix...\n",
      "Done computing similarity matrix.\n",
      "Computing the msd similarity matrix...\n",
      "Done computing similarity matrix.\n",
      "Computing the msd similarity matrix...\n",
      "Done computing similarity matrix.\n",
      "Computing the msd similarity matrix...\n",
      "Done computing similarity matrix.\n",
      "Computing the msd similarity matrix...\n",
      "Done computing similarity matrix.\n",
      "Computing the msd similarity matrix...\n",
      "Done computing similarity matrix.\n",
      "Computing the msd similarity matrix...\n",
      "Done computing similarity matrix.\n",
      "Computing the msd similarity matrix...\n",
      "Done computing similarity matrix.\n",
      "Computing the msd similarity matrix...\n",
      "Done computing similarity matrix.\n",
      "Computing the msd similarity matrix...\n",
      "Done computing similarity matrix.\n",
      "Computing the msd similarity matrix...\n",
      "Done computing similarity matrix.\n",
      "Computing the msd similarity matrix...\n",
      "Done computing similarity matrix.\n",
      "Computing the msd similarity matrix...\n",
      "Done computing similarity matrix.\n",
      "Computing the msd similarity matrix...\n",
      "Done computing similarity matrix.\n",
      "Computing the msd similarity matrix...\n",
      "Done computing similarity matrix.\n",
      "Computing the msd similarity matrix...\n",
      "Done computing similarity matrix.\n",
      "Computing the msd similarity matrix...\n",
      "Done computing similarity matrix.\n",
      "Computing the msd similarity matrix...\n",
      "Done computing similarity matrix.\n",
      "Computing the msd similarity matrix...\n",
      "Done computing similarity matrix.\n",
      "Computing the msd similarity matrix...\n",
      "Done computing similarity matrix.\n",
      "Computing the msd similarity matrix...\n",
      "Done computing similarity matrix.\n",
      "Computing the msd similarity matrix...\n",
      "Done computing similarity matrix.\n",
      "Computing the msd similarity matrix...\n",
      "Done computing similarity matrix.\n",
      "Computing the msd similarity matrix...\n",
      "Done computing similarity matrix.\n",
      "Computing the msd similarity matrix...\n",
      "Done computing similarity matrix.\n",
      "Computing the msd similarity matrix...\n",
      "Done computing similarity matrix.\n",
      "Computing the msd similarity matrix...\n",
      "Done computing similarity matrix.\n",
      "Computing the msd similarity matrix...\n",
      "Done computing similarity matrix.\n",
      "Computing the msd similarity matrix...\n",
      "Done computing similarity matrix.\n",
      "Computing the msd similarity matrix...\n",
      "Done computing similarity matrix.\n",
      "Computing the msd similarity matrix...\n",
      "Done computing similarity matrix.\n",
      "Computing the msd similarity matrix...\n",
      "Done computing similarity matrix.\n",
      "Computing the msd similarity matrix...\n",
      "Done computing similarity matrix.\n",
      "Computing the msd similarity matrix...\n",
      "Done computing similarity matrix.\n",
      "Computing the msd similarity matrix...\n",
      "Done computing similarity matrix.\n",
      "Computing the msd similarity matrix...\n",
      "Done computing similarity matrix.\n",
      "Computing the msd similarity matrix...\n",
      "Done computing similarity matrix.\n",
      "Computing the msd similarity matrix...\n",
      "Done computing similarity matrix.\n",
      "Computing the msd similarity matrix...\n",
      "Done computing similarity matrix.\n",
      "Computing the msd similarity matrix...\n",
      "Done computing similarity matrix.\n",
      "Computing the msd similarity matrix...\n",
      "Done computing similarity matrix.\n",
      "Computing the msd similarity matrix...\n",
      "Done computing similarity matrix.\n",
      "Computing the msd similarity matrix...\n",
      "Done computing similarity matrix.\n",
      "Computing the msd similarity matrix...\n",
      "Done computing similarity matrix.\n",
      "Computing the msd similarity matrix...\n",
      "Done computing similarity matrix.\n",
      "Computing the msd similarity matrix...\n",
      "Done computing similarity matrix.\n",
      "Computing the msd similarity matrix...\n",
      "Done computing similarity matrix.\n",
      "Computing the msd similarity matrix...\n",
      "Done computing similarity matrix.\n",
      "Computing the msd similarity matrix...\n",
      "Done computing similarity matrix.\n",
      "Computing the msd similarity matrix...\n",
      "Done computing similarity matrix.\n",
      "Computing the msd similarity matrix...\n",
      "Done computing similarity matrix.\n",
      "Computing the msd similarity matrix...\n",
      "Done computing similarity matrix.\n",
      "Computing the msd similarity matrix...\n",
      "Done computing similarity matrix.\n",
      "Computing the msd similarity matrix...\n",
      "Done computing similarity matrix.\n",
      "Computing the msd similarity matrix...\n",
      "Done computing similarity matrix.\n",
      "Computing the msd similarity matrix...\n",
      "Done computing similarity matrix.\n",
      "Computing the msd similarity matrix...\n",
      "Done computing similarity matrix.\n",
      "1.1144640227979294\n",
      "{'k': 10, 'min_k': 1, 'user_based': True, ' name': 'cosine'}\n"
     ]
    }
   ],
   "source": [
    "# We implement the grid search with the parameters stated above\n",
    "gs_knn = GridSearchCV(KNNWithZScore, param_grid, measures=[\"rmse\"], cv=5)\n",
    "\n",
    "# We fit the grid search to our data\n",
    "gs_knn.fit(data)\n",
    "\n",
    "# Return the best RMSE score\n",
    "print(gs_knn.best_score[\"rmse\"])\n",
    "\n",
    "# Return the combination of parameters that gave the best RMSE score\n",
    "print(gs_knn.best_params[\"rmse\"])"
   ]
  },
  {
   "cell_type": "markdown",
   "id": "TN98_GfS_Ffn",
   "metadata": {
    "id": "TN98_GfS_Ffn"
   },
   "source": [
    "The grid search has found the following settings to be the most optimal for our dataset: {'k': 10, 'min_k' : 1, 'user_based' : True, 'name' : 'cosine'}. We will now use these settings and cross-validate them with our data. "
   ]
  },
  {
   "cell_type": "code",
   "execution_count": 47,
   "id": "0d329f51-8dfa-46ff-8080-ba9e1021a658",
   "metadata": {
    "colab": {
     "base_uri": "https://localhost:8080/"
    },
    "id": "0d329f51-8dfa-46ff-8080-ba9e1021a658",
    "outputId": "59a81649-e44d-4444-9494-ac88332dc153"
   },
   "outputs": [
    {
     "name": "stdout",
     "output_type": "stream",
     "text": [
      "Computing the msd similarity matrix...\n",
      "Done computing similarity matrix.\n",
      "Computing the msd similarity matrix...\n",
      "Done computing similarity matrix.\n",
      "Computing the msd similarity matrix...\n",
      "Done computing similarity matrix.\n",
      "Computing the msd similarity matrix...\n",
      "Done computing similarity matrix.\n",
      "Computing the msd similarity matrix...\n",
      "Done computing similarity matrix.\n"
     ]
    },
    {
     "data": {
      "text/plain": [
       "{'test_rmse': array([1.10891402, 1.12781068, 1.13103156, 1.09840387, 1.11556607]),\n",
       " 'train_rmse': array([0.21287395, 0.20790706, 0.20966719, 0.20918874, 0.20737514]),\n",
       " 'test_mae': array([0.86279205, 0.8896214 , 0.89552543, 0.86823002, 0.87764965]),\n",
       " 'train_mae': array([0.10358375, 0.09888424, 0.10295958, 0.10139776, 0.09948448]),\n",
       " 'fit_time': (3.9402079582214355,\n",
       "  5.114866018295288,\n",
       "  3.7692160606384277,\n",
       "  5.129620552062988,\n",
       "  4.066056251525879),\n",
       " 'test_time': (0.028459787368774414,\n",
       "  0.030193090438842773,\n",
       "  0.03344988822937012,\n",
       "  0.029355287551879883,\n",
       "  0.028880834579467773)}"
      ]
     },
     "execution_count": 47,
     "metadata": {},
     "output_type": "execute_result"
    }
   ],
   "source": [
    "knn_1 = KNNWithZScore(k=10, min_k=1, user_based = True, name=\"cosine\")\n",
    "cross_validate(knn_1, data, cv=5, return_train_measures=True)"
   ]
  },
  {
   "cell_type": "markdown",
   "id": "0ZE6s5oA0I4D",
   "metadata": {
    "id": "0ZE6s5oA0I4D"
   },
   "source": [
    "The following are the results of 5 cross validation on the first configuration. The test RSME are 1.10891402, 1.12781068, 1.13103156, 1.09840387, 1.11556607 and for train RSME 0.21287395, 0.20790706, 0.20966719, 0.20918874, 0.20737514. "
   ]
  },
  {
   "cell_type": "markdown",
   "id": "Fn91MLP0VfxE",
   "metadata": {
    "id": "Fn91MLP0VfxE"
   },
   "source": [
    "The second configuration takes into account 15, 25 and 35 for values of k, 1, 2, 3, 4 and 5 for min_k and similarity measures Pearson and baseline Pearson."
   ]
  },
  {
   "cell_type": "code",
   "execution_count": 48,
   "id": "f75e479a-7773-4979-a8d9-bbf59048ae75",
   "metadata": {
    "id": "f75e479a-7773-4979-a8d9-bbf59048ae75"
   },
   "outputs": [],
   "source": [
    "param_grid_2 = {\"k\": [15,25,35], \n",
    "              \"min_k\": [1,2,3,4,5], \n",
    "              \"user_based\": [True, False],\n",
    "             \" name\": [\"pearson\", \"baseline_pearson\"],\n",
    "             } "
   ]
  },
  {
   "cell_type": "code",
   "execution_count": 49,
   "id": "cLismzJEnt_H",
   "metadata": {
    "colab": {
     "base_uri": "https://localhost:8080/"
    },
    "id": "cLismzJEnt_H",
    "outputId": "62c8da6e-7661-4644-8c39-2718bf8ee00c"
   },
   "outputs": [
    {
     "name": "stdout",
     "output_type": "stream",
     "text": [
      "Computing the msd similarity matrix...\n",
      "Done computing similarity matrix.\n",
      "Computing the msd similarity matrix...\n",
      "Done computing similarity matrix.\n",
      "Computing the msd similarity matrix...\n",
      "Done computing similarity matrix.\n",
      "Computing the msd similarity matrix...\n",
      "Done computing similarity matrix.\n",
      "Computing the msd similarity matrix...\n",
      "Done computing similarity matrix.\n",
      "Computing the msd similarity matrix...\n",
      "Done computing similarity matrix.\n",
      "Computing the msd similarity matrix...\n",
      "Done computing similarity matrix.\n",
      "Computing the msd similarity matrix...\n",
      "Done computing similarity matrix.\n",
      "Computing the msd similarity matrix...\n",
      "Done computing similarity matrix.\n",
      "Computing the msd similarity matrix...\n",
      "Done computing similarity matrix.\n",
      "Computing the msd similarity matrix...\n",
      "Done computing similarity matrix.\n",
      "Computing the msd similarity matrix...\n",
      "Done computing similarity matrix.\n",
      "Computing the msd similarity matrix...\n",
      "Done computing similarity matrix.\n",
      "Computing the msd similarity matrix...\n",
      "Done computing similarity matrix.\n",
      "Computing the msd similarity matrix...\n",
      "Done computing similarity matrix.\n",
      "Computing the msd similarity matrix...\n",
      "Done computing similarity matrix.\n",
      "Computing the msd similarity matrix...\n",
      "Done computing similarity matrix.\n",
      "Computing the msd similarity matrix...\n",
      "Done computing similarity matrix.\n",
      "Computing the msd similarity matrix...\n",
      "Done computing similarity matrix.\n",
      "Computing the msd similarity matrix...\n",
      "Done computing similarity matrix.\n",
      "Computing the msd similarity matrix...\n",
      "Done computing similarity matrix.\n",
      "Computing the msd similarity matrix...\n",
      "Done computing similarity matrix.\n",
      "Computing the msd similarity matrix...\n",
      "Done computing similarity matrix.\n",
      "Computing the msd similarity matrix...\n",
      "Done computing similarity matrix.\n",
      "Computing the msd similarity matrix...\n",
      "Done computing similarity matrix.\n",
      "Computing the msd similarity matrix...\n",
      "Done computing similarity matrix.\n",
      "Computing the msd similarity matrix...\n",
      "Done computing similarity matrix.\n",
      "Computing the msd similarity matrix...\n",
      "Done computing similarity matrix.\n",
      "Computing the msd similarity matrix...\n",
      "Done computing similarity matrix.\n",
      "Computing the msd similarity matrix...\n",
      "Done computing similarity matrix.\n",
      "Computing the msd similarity matrix...\n",
      "Done computing similarity matrix.\n",
      "Computing the msd similarity matrix...\n",
      "Done computing similarity matrix.\n",
      "Computing the msd similarity matrix...\n",
      "Done computing similarity matrix.\n",
      "Computing the msd similarity matrix...\n",
      "Done computing similarity matrix.\n",
      "Computing the msd similarity matrix...\n",
      "Done computing similarity matrix.\n",
      "Computing the msd similarity matrix...\n",
      "Done computing similarity matrix.\n",
      "Computing the msd similarity matrix...\n",
      "Done computing similarity matrix.\n",
      "Computing the msd similarity matrix...\n",
      "Done computing similarity matrix.\n",
      "Computing the msd similarity matrix...\n",
      "Done computing similarity matrix.\n",
      "Computing the msd similarity matrix...\n",
      "Done computing similarity matrix.\n",
      "Computing the msd similarity matrix...\n",
      "Done computing similarity matrix.\n",
      "Computing the msd similarity matrix...\n",
      "Done computing similarity matrix.\n",
      "Computing the msd similarity matrix...\n",
      "Done computing similarity matrix.\n",
      "Computing the msd similarity matrix...\n",
      "Done computing similarity matrix.\n",
      "Computing the msd similarity matrix...\n",
      "Done computing similarity matrix.\n",
      "Computing the msd similarity matrix...\n",
      "Done computing similarity matrix.\n",
      "Computing the msd similarity matrix...\n",
      "Done computing similarity matrix.\n",
      "Computing the msd similarity matrix...\n",
      "Done computing similarity matrix.\n",
      "Computing the msd similarity matrix...\n",
      "Done computing similarity matrix.\n",
      "Computing the msd similarity matrix...\n",
      "Done computing similarity matrix.\n",
      "Computing the msd similarity matrix...\n",
      "Done computing similarity matrix.\n",
      "Computing the msd similarity matrix...\n",
      "Done computing similarity matrix.\n",
      "Computing the msd similarity matrix...\n",
      "Done computing similarity matrix.\n",
      "Computing the msd similarity matrix...\n",
      "Done computing similarity matrix.\n",
      "Computing the msd similarity matrix...\n",
      "Done computing similarity matrix.\n",
      "Computing the msd similarity matrix...\n",
      "Done computing similarity matrix.\n",
      "Computing the msd similarity matrix...\n",
      "Done computing similarity matrix.\n",
      "Computing the msd similarity matrix...\n",
      "Done computing similarity matrix.\n",
      "Computing the msd similarity matrix...\n",
      "Done computing similarity matrix.\n",
      "Computing the msd similarity matrix...\n",
      "Done computing similarity matrix.\n",
      "Computing the msd similarity matrix...\n",
      "Done computing similarity matrix.\n",
      "Computing the msd similarity matrix...\n",
      "Done computing similarity matrix.\n",
      "Computing the msd similarity matrix...\n",
      "Done computing similarity matrix.\n",
      "Computing the msd similarity matrix...\n",
      "Done computing similarity matrix.\n",
      "Computing the msd similarity matrix...\n",
      "Done computing similarity matrix.\n",
      "Computing the msd similarity matrix...\n",
      "Done computing similarity matrix.\n",
      "Computing the msd similarity matrix...\n",
      "Done computing similarity matrix.\n",
      "Computing the msd similarity matrix...\n",
      "Done computing similarity matrix.\n",
      "Computing the msd similarity matrix...\n",
      "Done computing similarity matrix.\n",
      "Computing the msd similarity matrix...\n",
      "Done computing similarity matrix.\n",
      "Computing the msd similarity matrix...\n",
      "Done computing similarity matrix.\n",
      "Computing the msd similarity matrix...\n",
      "Done computing similarity matrix.\n",
      "Computing the msd similarity matrix...\n",
      "Done computing similarity matrix.\n",
      "Computing the msd similarity matrix...\n",
      "Done computing similarity matrix.\n",
      "Computing the msd similarity matrix...\n",
      "Done computing similarity matrix.\n",
      "Computing the msd similarity matrix...\n",
      "Done computing similarity matrix.\n",
      "Computing the msd similarity matrix...\n",
      "Done computing similarity matrix.\n",
      "Computing the msd similarity matrix...\n",
      "Done computing similarity matrix.\n",
      "Computing the msd similarity matrix...\n",
      "Done computing similarity matrix.\n",
      "Computing the msd similarity matrix...\n",
      "Done computing similarity matrix.\n",
      "Computing the msd similarity matrix...\n",
      "Done computing similarity matrix.\n",
      "Computing the msd similarity matrix...\n",
      "Done computing similarity matrix.\n",
      "Computing the msd similarity matrix...\n",
      "Done computing similarity matrix.\n",
      "Computing the msd similarity matrix...\n",
      "Done computing similarity matrix.\n",
      "Computing the msd similarity matrix...\n",
      "Done computing similarity matrix.\n",
      "Computing the msd similarity matrix...\n",
      "Done computing similarity matrix.\n",
      "Computing the msd similarity matrix...\n",
      "Done computing similarity matrix.\n",
      "Computing the msd similarity matrix...\n",
      "Done computing similarity matrix.\n",
      "Computing the msd similarity matrix...\n",
      "Done computing similarity matrix.\n",
      "Computing the msd similarity matrix...\n",
      "Done computing similarity matrix.\n",
      "Computing the msd similarity matrix...\n",
      "Done computing similarity matrix.\n",
      "Computing the msd similarity matrix...\n",
      "Done computing similarity matrix.\n",
      "Computing the msd similarity matrix...\n",
      "Done computing similarity matrix.\n",
      "Computing the msd similarity matrix...\n",
      "Done computing similarity matrix.\n",
      "Computing the msd similarity matrix...\n",
      "Done computing similarity matrix.\n",
      "Computing the msd similarity matrix...\n",
      "Done computing similarity matrix.\n",
      "Computing the msd similarity matrix...\n",
      "Done computing similarity matrix.\n",
      "Computing the msd similarity matrix...\n",
      "Done computing similarity matrix.\n",
      "Computing the msd similarity matrix...\n",
      "Done computing similarity matrix.\n",
      "Computing the msd similarity matrix...\n",
      "Done computing similarity matrix.\n",
      "Computing the msd similarity matrix...\n",
      "Done computing similarity matrix.\n",
      "Computing the msd similarity matrix...\n",
      "Done computing similarity matrix.\n",
      "Computing the msd similarity matrix...\n",
      "Done computing similarity matrix.\n",
      "Computing the msd similarity matrix...\n",
      "Done computing similarity matrix.\n",
      "Computing the msd similarity matrix...\n",
      "Done computing similarity matrix.\n",
      "Computing the msd similarity matrix...\n",
      "Done computing similarity matrix.\n",
      "Computing the msd similarity matrix...\n",
      "Done computing similarity matrix.\n",
      "Computing the msd similarity matrix...\n",
      "Done computing similarity matrix.\n",
      "Computing the msd similarity matrix...\n",
      "Done computing similarity matrix.\n",
      "Computing the msd similarity matrix...\n",
      "Done computing similarity matrix.\n",
      "Computing the msd similarity matrix...\n",
      "Done computing similarity matrix.\n",
      "Computing the msd similarity matrix...\n",
      "Done computing similarity matrix.\n",
      "Computing the msd similarity matrix...\n",
      "Done computing similarity matrix.\n",
      "Computing the msd similarity matrix...\n",
      "Done computing similarity matrix.\n",
      "Computing the msd similarity matrix...\n",
      "Done computing similarity matrix.\n",
      "Computing the msd similarity matrix...\n",
      "Done computing similarity matrix.\n",
      "Computing the msd similarity matrix...\n",
      "Done computing similarity matrix.\n",
      "Computing the msd similarity matrix...\n",
      "Done computing similarity matrix.\n",
      "Computing the msd similarity matrix...\n",
      "Done computing similarity matrix.\n",
      "Computing the msd similarity matrix...\n",
      "Done computing similarity matrix.\n",
      "Computing the msd similarity matrix...\n",
      "Done computing similarity matrix.\n",
      "Computing the msd similarity matrix...\n",
      "Done computing similarity matrix.\n",
      "Computing the msd similarity matrix...\n",
      "Done computing similarity matrix.\n",
      "Computing the msd similarity matrix...\n",
      "Done computing similarity matrix.\n",
      "Computing the msd similarity matrix...\n",
      "Done computing similarity matrix.\n",
      "Computing the msd similarity matrix...\n",
      "Done computing similarity matrix.\n",
      "Computing the msd similarity matrix...\n",
      "Done computing similarity matrix.\n",
      "Computing the msd similarity matrix...\n",
      "Done computing similarity matrix.\n",
      "Computing the msd similarity matrix...\n",
      "Done computing similarity matrix.\n",
      "Computing the msd similarity matrix...\n",
      "Done computing similarity matrix.\n",
      "Computing the msd similarity matrix...\n",
      "Done computing similarity matrix.\n",
      "Computing the msd similarity matrix...\n",
      "Done computing similarity matrix.\n",
      "Computing the msd similarity matrix...\n",
      "Done computing similarity matrix.\n",
      "Computing the msd similarity matrix...\n",
      "Done computing similarity matrix.\n",
      "Computing the msd similarity matrix...\n",
      "Done computing similarity matrix.\n",
      "Computing the msd similarity matrix...\n",
      "Done computing similarity matrix.\n",
      "Computing the msd similarity matrix...\n",
      "Done computing similarity matrix.\n",
      "Computing the msd similarity matrix...\n",
      "Done computing similarity matrix.\n",
      "Computing the msd similarity matrix...\n",
      "Done computing similarity matrix.\n",
      "Computing the msd similarity matrix...\n",
      "Done computing similarity matrix.\n",
      "Computing the msd similarity matrix...\n",
      "Done computing similarity matrix.\n",
      "Computing the msd similarity matrix...\n",
      "Done computing similarity matrix.\n",
      "Computing the msd similarity matrix...\n",
      "Done computing similarity matrix.\n",
      "Computing the msd similarity matrix...\n",
      "Done computing similarity matrix.\n",
      "Computing the msd similarity matrix...\n",
      "Done computing similarity matrix.\n",
      "Computing the msd similarity matrix...\n",
      "Done computing similarity matrix.\n",
      "Computing the msd similarity matrix...\n",
      "Done computing similarity matrix.\n",
      "Computing the msd similarity matrix...\n",
      "Done computing similarity matrix.\n",
      "Computing the msd similarity matrix...\n",
      "Done computing similarity matrix.\n",
      "Computing the msd similarity matrix...\n",
      "Done computing similarity matrix.\n",
      "Computing the msd similarity matrix...\n",
      "Done computing similarity matrix.\n",
      "Computing the msd similarity matrix...\n",
      "Done computing similarity matrix.\n",
      "Computing the msd similarity matrix...\n",
      "Done computing similarity matrix.\n",
      "Computing the msd similarity matrix...\n",
      "Done computing similarity matrix.\n",
      "Computing the msd similarity matrix...\n",
      "Done computing similarity matrix.\n",
      "Computing the msd similarity matrix...\n",
      "Done computing similarity matrix.\n",
      "Computing the msd similarity matrix...\n",
      "Done computing similarity matrix.\n",
      "Computing the msd similarity matrix...\n",
      "Done computing similarity matrix.\n",
      "Computing the msd similarity matrix...\n",
      "Done computing similarity matrix.\n",
      "Computing the msd similarity matrix...\n",
      "Done computing similarity matrix.\n",
      "Computing the msd similarity matrix...\n",
      "Done computing similarity matrix.\n",
      "Computing the msd similarity matrix...\n",
      "Done computing similarity matrix.\n",
      "Computing the msd similarity matrix...\n",
      "Done computing similarity matrix.\n",
      "Computing the msd similarity matrix...\n",
      "Done computing similarity matrix.\n",
      "Computing the msd similarity matrix...\n",
      "Done computing similarity matrix.\n",
      "Computing the msd similarity matrix...\n",
      "Done computing similarity matrix.\n",
      "Computing the msd similarity matrix...\n",
      "Done computing similarity matrix.\n",
      "Computing the msd similarity matrix...\n",
      "Done computing similarity matrix.\n",
      "Computing the msd similarity matrix...\n",
      "Done computing similarity matrix.\n",
      "Computing the msd similarity matrix...\n",
      "Done computing similarity matrix.\n",
      "Computing the msd similarity matrix...\n",
      "Done computing similarity matrix.\n",
      "Computing the msd similarity matrix...\n",
      "Done computing similarity matrix.\n",
      "Computing the msd similarity matrix...\n",
      "Done computing similarity matrix.\n",
      "Computing the msd similarity matrix...\n",
      "Done computing similarity matrix.\n",
      "Computing the msd similarity matrix...\n",
      "Done computing similarity matrix.\n",
      "Computing the msd similarity matrix...\n",
      "Done computing similarity matrix.\n",
      "Computing the msd similarity matrix...\n",
      "Done computing similarity matrix.\n",
      "Computing the msd similarity matrix...\n",
      "Done computing similarity matrix.\n",
      "Computing the msd similarity matrix...\n",
      "Done computing similarity matrix.\n",
      "Computing the msd similarity matrix...\n",
      "Done computing similarity matrix.\n",
      "Computing the msd similarity matrix...\n",
      "Done computing similarity matrix.\n",
      "Computing the msd similarity matrix...\n",
      "Done computing similarity matrix.\n",
      "Computing the msd similarity matrix...\n",
      "Done computing similarity matrix.\n",
      "Computing the msd similarity matrix...\n",
      "Done computing similarity matrix.\n",
      "Computing the msd similarity matrix...\n",
      "Done computing similarity matrix.\n",
      "Computing the msd similarity matrix...\n",
      "Done computing similarity matrix.\n",
      "Computing the msd similarity matrix...\n",
      "Done computing similarity matrix.\n",
      "Computing the msd similarity matrix...\n",
      "Done computing similarity matrix.\n",
      "Computing the msd similarity matrix...\n",
      "Done computing similarity matrix.\n",
      "Computing the msd similarity matrix...\n",
      "Done computing similarity matrix.\n",
      "Computing the msd similarity matrix...\n",
      "Done computing similarity matrix.\n",
      "Computing the msd similarity matrix...\n",
      "Done computing similarity matrix.\n",
      "Computing the msd similarity matrix...\n",
      "Done computing similarity matrix.\n",
      "Computing the msd similarity matrix...\n",
      "Done computing similarity matrix.\n",
      "Computing the msd similarity matrix...\n",
      "Done computing similarity matrix.\n",
      "Computing the msd similarity matrix...\n",
      "Done computing similarity matrix.\n",
      "Computing the msd similarity matrix...\n",
      "Done computing similarity matrix.\n",
      "Computing the msd similarity matrix...\n",
      "Done computing similarity matrix.\n",
      "Computing the msd similarity matrix...\n",
      "Done computing similarity matrix.\n",
      "Computing the msd similarity matrix...\n",
      "Done computing similarity matrix.\n",
      "Computing the msd similarity matrix...\n",
      "Done computing similarity matrix.\n",
      "Computing the msd similarity matrix...\n",
      "Done computing similarity matrix.\n",
      "Computing the msd similarity matrix...\n",
      "Done computing similarity matrix.\n",
      "Computing the msd similarity matrix...\n",
      "Done computing similarity matrix.\n",
      "Computing the msd similarity matrix...\n",
      "Done computing similarity matrix.\n",
      "Computing the msd similarity matrix...\n",
      "Done computing similarity matrix.\n",
      "Computing the msd similarity matrix...\n",
      "Done computing similarity matrix.\n",
      "Computing the msd similarity matrix...\n",
      "Done computing similarity matrix.\n",
      "Computing the msd similarity matrix...\n",
      "Done computing similarity matrix.\n",
      "Computing the msd similarity matrix...\n",
      "Done computing similarity matrix.\n",
      "Computing the msd similarity matrix...\n",
      "Done computing similarity matrix.\n",
      "Computing the msd similarity matrix...\n",
      "Done computing similarity matrix.\n",
      "Computing the msd similarity matrix...\n",
      "Done computing similarity matrix.\n",
      "Computing the msd similarity matrix...\n",
      "Done computing similarity matrix.\n",
      "Computing the msd similarity matrix...\n",
      "Done computing similarity matrix.\n",
      "Computing the msd similarity matrix...\n",
      "Done computing similarity matrix.\n",
      "Computing the msd similarity matrix...\n",
      "Done computing similarity matrix.\n",
      "Computing the msd similarity matrix...\n",
      "Done computing similarity matrix.\n",
      "Computing the msd similarity matrix...\n",
      "Done computing similarity matrix.\n",
      "Computing the msd similarity matrix...\n",
      "Done computing similarity matrix.\n",
      "Computing the msd similarity matrix...\n",
      "Done computing similarity matrix.\n",
      "Computing the msd similarity matrix...\n",
      "Done computing similarity matrix.\n",
      "Computing the msd similarity matrix...\n",
      "Done computing similarity matrix.\n",
      "Computing the msd similarity matrix...\n",
      "Done computing similarity matrix.\n",
      "Computing the msd similarity matrix...\n",
      "Done computing similarity matrix.\n",
      "Computing the msd similarity matrix...\n",
      "Done computing similarity matrix.\n",
      "Computing the msd similarity matrix...\n",
      "Done computing similarity matrix.\n",
      "Computing the msd similarity matrix...\n",
      "Done computing similarity matrix.\n",
      "Computing the msd similarity matrix...\n",
      "Done computing similarity matrix.\n",
      "Computing the msd similarity matrix...\n",
      "Done computing similarity matrix.\n",
      "Computing the msd similarity matrix...\n",
      "Done computing similarity matrix.\n",
      "Computing the msd similarity matrix...\n",
      "Done computing similarity matrix.\n",
      "Computing the msd similarity matrix...\n",
      "Done computing similarity matrix.\n",
      "Computing the msd similarity matrix...\n",
      "Done computing similarity matrix.\n",
      "Computing the msd similarity matrix...\n",
      "Done computing similarity matrix.\n",
      "Computing the msd similarity matrix...\n",
      "Done computing similarity matrix.\n",
      "Computing the msd similarity matrix...\n",
      "Done computing similarity matrix.\n",
      "Computing the msd similarity matrix...\n",
      "Done computing similarity matrix.\n",
      "Computing the msd similarity matrix...\n",
      "Done computing similarity matrix.\n",
      "Computing the msd similarity matrix...\n",
      "Done computing similarity matrix.\n",
      "Computing the msd similarity matrix...\n",
      "Done computing similarity matrix.\n",
      "Computing the msd similarity matrix...\n",
      "Done computing similarity matrix.\n",
      "Computing the msd similarity matrix...\n",
      "Done computing similarity matrix.\n",
      "Computing the msd similarity matrix...\n",
      "Done computing similarity matrix.\n",
      "Computing the msd similarity matrix...\n",
      "Done computing similarity matrix.\n",
      "Computing the msd similarity matrix...\n",
      "Done computing similarity matrix.\n",
      "Computing the msd similarity matrix...\n",
      "Done computing similarity matrix.\n",
      "Computing the msd similarity matrix...\n",
      "Done computing similarity matrix.\n",
      "Computing the msd similarity matrix...\n",
      "Done computing similarity matrix.\n",
      "Computing the msd similarity matrix...\n",
      "Done computing similarity matrix.\n",
      "Computing the msd similarity matrix...\n",
      "Done computing similarity matrix.\n",
      "Computing the msd similarity matrix...\n",
      "Done computing similarity matrix.\n",
      "Computing the msd similarity matrix...\n",
      "Done computing similarity matrix.\n",
      "Computing the msd similarity matrix...\n",
      "Done computing similarity matrix.\n",
      "Computing the msd similarity matrix...\n",
      "Done computing similarity matrix.\n",
      "Computing the msd similarity matrix...\n",
      "Done computing similarity matrix.\n",
      "Computing the msd similarity matrix...\n",
      "Done computing similarity matrix.\n",
      "Computing the msd similarity matrix...\n",
      "Done computing similarity matrix.\n",
      "Computing the msd similarity matrix...\n",
      "Done computing similarity matrix.\n",
      "Computing the msd similarity matrix...\n",
      "Done computing similarity matrix.\n",
      "Computing the msd similarity matrix...\n",
      "Done computing similarity matrix.\n",
      "Computing the msd similarity matrix...\n",
      "Done computing similarity matrix.\n",
      "Computing the msd similarity matrix...\n",
      "Done computing similarity matrix.\n",
      "Computing the msd similarity matrix...\n",
      "Done computing similarity matrix.\n",
      "Computing the msd similarity matrix...\n",
      "Done computing similarity matrix.\n",
      "Computing the msd similarity matrix...\n",
      "Done computing similarity matrix.\n",
      "Computing the msd similarity matrix...\n",
      "Done computing similarity matrix.\n",
      "Computing the msd similarity matrix...\n",
      "Done computing similarity matrix.\n",
      "Computing the msd similarity matrix...\n",
      "Done computing similarity matrix.\n",
      "Computing the msd similarity matrix...\n",
      "Done computing similarity matrix.\n",
      "Computing the msd similarity matrix...\n",
      "Done computing similarity matrix.\n",
      "Computing the msd similarity matrix...\n",
      "Done computing similarity matrix.\n",
      "Computing the msd similarity matrix...\n",
      "Done computing similarity matrix.\n",
      "Computing the msd similarity matrix...\n",
      "Done computing similarity matrix.\n",
      "Computing the msd similarity matrix...\n",
      "Done computing similarity matrix.\n",
      "Computing the msd similarity matrix...\n",
      "Done computing similarity matrix.\n",
      "Computing the msd similarity matrix...\n",
      "Done computing similarity matrix.\n",
      "Computing the msd similarity matrix...\n",
      "Done computing similarity matrix.\n",
      "Computing the msd similarity matrix...\n",
      "Done computing similarity matrix.\n",
      "Computing the msd similarity matrix...\n",
      "Done computing similarity matrix.\n",
      "Computing the msd similarity matrix...\n",
      "Done computing similarity matrix.\n",
      "Computing the msd similarity matrix...\n",
      "Done computing similarity matrix.\n",
      "Computing the msd similarity matrix...\n",
      "Done computing similarity matrix.\n",
      "Computing the msd similarity matrix...\n",
      "Done computing similarity matrix.\n",
      "Computing the msd similarity matrix...\n",
      "Done computing similarity matrix.\n",
      "Computing the msd similarity matrix...\n",
      "Done computing similarity matrix.\n",
      "Computing the msd similarity matrix...\n",
      "Done computing similarity matrix.\n",
      "Computing the msd similarity matrix...\n",
      "Done computing similarity matrix.\n",
      "Computing the msd similarity matrix...\n",
      "Done computing similarity matrix.\n",
      "Computing the msd similarity matrix...\n",
      "Done computing similarity matrix.\n",
      "Computing the msd similarity matrix...\n",
      "Done computing similarity matrix.\n",
      "Computing the msd similarity matrix...\n",
      "Done computing similarity matrix.\n",
      "Computing the msd similarity matrix...\n",
      "Done computing similarity matrix.\n",
      "Computing the msd similarity matrix...\n",
      "Done computing similarity matrix.\n",
      "Computing the msd similarity matrix...\n",
      "Done computing similarity matrix.\n",
      "Computing the msd similarity matrix...\n",
      "Done computing similarity matrix.\n",
      "Computing the msd similarity matrix...\n",
      "Done computing similarity matrix.\n",
      "Computing the msd similarity matrix...\n",
      "Done computing similarity matrix.\n",
      "Computing the msd similarity matrix...\n",
      "Done computing similarity matrix.\n",
      "Computing the msd similarity matrix...\n",
      "Done computing similarity matrix.\n",
      "1.111162054128162\n",
      "{'k': 15, 'min_k': 1, 'user_based': True, ' name': 'pearson'}\n"
     ]
    }
   ],
   "source": [
    "gs_knn_2 = GridSearchCV(KNNWithZScore, param_grid_2, measures=[\"rmse\"], cv=5)\n",
    "\n",
    "gs_knn_2.fit(data)\n",
    "\n",
    "# best RMSE score\n",
    "print(gs_knn_2.best_score[\"rmse\"])\n",
    "\n",
    "# combination of parameters that gave the best RMSE score\n",
    "print(gs_knn_2.best_params[\"rmse\"])"
   ]
  },
  {
   "cell_type": "markdown",
   "id": "NlsfeePSV2At",
   "metadata": {
    "id": "NlsfeePSV2At"
   },
   "source": [
    "The grid search has found the following settings to be the most optimal for our dataset: {'k': 15, 'min_k' : 1, 'user_based' : True, 'name' : 'pearson'}. We will now use these settings and cross-validate them with our data. "
   ]
  },
  {
   "cell_type": "code",
   "execution_count": 50,
   "id": "Bu9rrgIKr7_n",
   "metadata": {
    "colab": {
     "base_uri": "https://localhost:8080/"
    },
    "id": "Bu9rrgIKr7_n",
    "outputId": "58575268-3646-4e2f-c6f8-39e76cd01a7d"
   },
   "outputs": [
    {
     "name": "stdout",
     "output_type": "stream",
     "text": [
      "Computing the msd similarity matrix...\n",
      "Done computing similarity matrix.\n",
      "Computing the msd similarity matrix...\n",
      "Done computing similarity matrix.\n",
      "Computing the msd similarity matrix...\n",
      "Done computing similarity matrix.\n",
      "Computing the msd similarity matrix...\n",
      "Done computing similarity matrix.\n",
      "Computing the msd similarity matrix...\n",
      "Done computing similarity matrix.\n"
     ]
    },
    {
     "data": {
      "text/plain": [
       "{'test_rmse': array([1.10785153, 1.11155172, 1.10058051, 1.12085022, 1.12143586]),\n",
       " 'train_rmse': array([0.20810233, 0.20985971, 0.21119862, 0.21263679, 0.210635  ]),\n",
       " 'test_mae': array([0.87351203, 0.87118869, 0.86802399, 0.88128288, 0.88612357]),\n",
       " 'train_mae': array([0.10004737, 0.10229699, 0.10069877, 0.10262212, 0.10242621]),\n",
       " 'fit_time': (5.170235633850098,\n",
       "  5.571821212768555,\n",
       "  6.44625997543335,\n",
       "  5.9513936042785645,\n",
       "  5.2227418422698975),\n",
       " 'test_time': (0.031873464584350586,\n",
       "  0.028362751007080078,\n",
       "  0.029851436614990234,\n",
       "  0.028855323791503906,\n",
       "  0.031409263610839844)}"
      ]
     },
     "execution_count": 50,
     "metadata": {},
     "output_type": "execute_result"
    }
   ],
   "source": [
    "knn_2 = KNNWithZScore(k=15, min_k=1, user_based = True, name=\"pearson\")\n",
    "cross_validate(knn_2, data, cv=5, return_train_measures=True)"
   ]
  },
  {
   "cell_type": "markdown",
   "id": "ONFXcQkd0Wuy",
   "metadata": {
    "id": "ONFXcQkd0Wuy"
   },
   "source": [
    "The following are the results of 5 cross validation on the second configuration. The test RSME are 1.10785153, 1.11155172, 1.10058051, 1.12085022, 1.12143586 and for train RSME 0.20810233, 0.20985971, 0.21119862, 0.21263679, 0.210635. "
   ]
  },
  {
   "cell_type": "markdown",
   "id": "JBJNT_-66U-Z",
   "metadata": {
    "id": "JBJNT_-66U-Z"
   },
   "source": [
    "**Discussion**\n",
    "\n",
    "The KNN with z-score model seems to be performing a bit better than the baseline model. The RSME values the KNN model returns for the training set are way lower than the values the baseline model returns (0.2 vs 1.4 respectively). Besides that, the RMSE for both KNN models regardigng the test set are lower than the one for baseline (1.1 vs 1.4 respectively). There does not seem to be that big of a difference between the two configurations of the KNN model. Both return around the same values for the training and test RMSE. It should be noted, however, that the KNN model is clearly overfitting to the training data. This can be seen when comparing the RMSE values of the training set and the test set. While the RMSE values of the training set usually stay around 0.2, that of the test set skyrockets back up to around 1.1. Therefore, it can be said that this model does not perform well on unseen data. This can partially be explained by the size of the dataset used. Since we were running into RAM usage issues while running the models, we only used a very small subset of the data. Therefore, the model did not have many instances to learn from and easily overfits to the cases it does know. In future studies, a bigger chuck of the dataset should be used in order to make better predictions with the models. Besides that, it could be useful to try different hyperparameter values. It might turn out that other k values may produce better results."
   ]
  },
  {
   "cell_type": "markdown",
   "id": "c04c78ff-955e-4b77-b4e0-20a2cbcd7a7f",
   "metadata": {
    "id": "c04c78ff-955e-4b77-b4e0-20a2cbcd7a7f"
   },
   "source": [
    "**Matrix factorization-based method**"
   ]
  },
  {
   "cell_type": "markdown",
   "id": "wy8xIncaRwSt",
   "metadata": {
    "id": "wy8xIncaRwSt"
   },
   "source": [
    "The Singular Value Decomposition (SVD) algorithm is derived from linear algebra and has primarily been used in machine learning as a dimensionality\n",
    "reduction technique. SVD is a matrix factorization technique that reduces the number of features in a dataset by reducing the space dimension from N to K, \n",
    "resulting in K being less than N. In recommender systems, SVD is used as a collaborative filtering technique. The matrix structure is made up\n",
    "of rows that represent users and columns that represent items. The ratings that the user has given are treated as matrix elements (Kumar, 2020).\n",
    "\n",
    "The SVD model was chosen for matrix factorization in this project due to its high accuracy in previous studies and its widespread use in Netflix\n",
    "prize competitions, including one presented by Simon Funk in his famous Try This at Home blogpost. Another prediction algorithm, SVD ++, has been\n",
    "considered. Although SVD++ outperforms SVD in several studies, it is not always preferable to use SVD++. When compared to the naive SVD, SVD++ takes\n",
    "significantly longer to train. Given the size of our database, it may take too long to run it and evaluate the results.\n",
    "\n",
    "When tuning the hyperparameters for SVD with the grid search we used the following parameters: learning rate, regularization term and number of epochs.\n",
    "A factor known as learning rate determines the ratio of the old and new computed values after each iteration. In practice, when using high values, \n",
    "the optimal solution may be skipped, whereas when using low values, many iterations are required to reach the optimal value. We add a penalty term to\n",
    "our minimization equation so that our model can generalize well while not over-fitting the training set. A regularization term represents this. \n",
    "The number of epochs counts how many parameter updates that model is carrying out."
   ]
  },
  {
   "cell_type": "code",
   "execution_count": 51,
   "id": "0cf042b8-d755-44e3-8880-2418524838ec",
   "metadata": {
    "id": "0cf042b8-d755-44e3-8880-2418524838ec"
   },
   "outputs": [],
   "source": [
    "from surprise import SVD"
   ]
  },
  {
   "cell_type": "markdown",
   "id": "qOp2CWm-SOEK",
   "metadata": {
    "id": "qOp2CWm-SOEK"
   },
   "source": [
    "The default setting for learning rate, regularization term and number of epochs are 0.005, 0.02 and 20. However, that might be not the optimal setting\n",
    "for our data, we will make two configurations when doing hyperparameter tuning. The first configuration focuses on a smaller grid. The included values\n",
    " for the learning rate are 0.001 and 0.002, for the regularization term 0.02 and 0.08 and for the number of epochs 10,20 and 30. In the first configuration we want to see if the smaller parameter will conclude in smaller RSME. If not, we will increase our parameters in the second configuration to see if using larger parameters has a positive or a negative effect on RSME."
   ]
  },
  {
   "cell_type": "markdown",
   "id": "r8ntaexCSw9m",
   "metadata": {
    "id": "r8ntaexCSw9m"
   },
   "source": [
    "The most popular methods to evaluate the recommender systems is Root Square Mean Error (RSME) and Mean Absolute Error( MAE). \n",
    "Both are widely used due to easy interpretation. The RMSE is similar to the MAE, but the absolute value of the residual is squared, \n",
    "and the square root of the entire term is used for comparison. The benefit of using RMSE instead of MAE is that it penalizes the term \n",
    "more when the error is large. As previously stated, the RSME will be used to evaluate the recommendation's quality. According to a rule of thumb,\n",
    "RMSE values between 0.2 and 0.5 indicate that the model can reasonably predict the data.  "
   ]
  },
  {
   "cell_type": "code",
   "execution_count": 52,
   "id": "XjhketH5ZaaK",
   "metadata": {
    "colab": {
     "base_uri": "https://localhost:8080/"
    },
    "id": "XjhketH5ZaaK",
    "outputId": "8564d093-4063-4474-f111-0e5ecc8c3733"
   },
   "outputs": [
    {
     "name": "stdout",
     "output_type": "stream",
     "text": [
      "1.0474611871991661\n",
      "{'n_epochs': 10, 'lr_all': 0.002, 'reg_all': 0.02}\n"
     ]
    }
   ],
   "source": [
    "from surprise.model_selection import GridSearchCV\n",
    "\n",
    "# Use movielens data\n",
    "\n",
    "param_grid = {\"n_epochs\": [5,10],\n",
    "    \"lr_all\": [0.001, 0.002],\n",
    "    \"reg_all\": [0.02, 0.08]}\n",
    "gs = GridSearchCV(SVD, param_grid, measures=[\"rmse\"], cv=5)\n",
    "\n",
    "gs.fit(data)\n",
    "\n",
    "# best RMSE score\n",
    "print(gs.best_score[\"rmse\"])\n",
    "\n",
    "# combination of parameters that gave the best RMSE score\n",
    "print(gs.best_params[\"rmse\"])"
   ]
  },
  {
   "cell_type": "markdown",
   "id": "61uqgURISevH",
   "metadata": {
    "id": "61uqgURISevH"
   },
   "source": [
    "The Grid Search found the best set of parameters: 10 epochs, 0.002 learning rate, and 0.02 regularisation term. These settings will be used as the first configuration on five fold cross validation."
   ]
  },
  {
   "cell_type": "code",
   "execution_count": 56,
   "id": "YNz93fNlZ81s",
   "metadata": {
    "id": "YNz93fNlZ81s"
   },
   "outputs": [],
   "source": [
    "SVD1 = SVD(n_epochs=10 , lr_all=0.002, reg_all= 0.02)"
   ]
  },
  {
   "cell_type": "code",
   "execution_count": 57,
   "id": "spgjO1tLZHCr",
   "metadata": {
    "colab": {
     "base_uri": "https://localhost:8080/"
    },
    "id": "spgjO1tLZHCr",
    "outputId": "dc356183-e2fd-44f2-a0c1-e660c6a00371"
   },
   "outputs": [
    {
     "data": {
      "text/plain": [
       "{'test_rmse': array([1.03580571, 1.06397391, 1.0491104 , 1.02021019, 1.06828148]),\n",
       " 'train_rmse': array([0.97368046, 0.96760117, 0.97076799, 0.97698595, 0.96652782]),\n",
       " 'test_mae': array([0.83001245, 0.84017799, 0.82662358, 0.80839433, 0.84643563]),\n",
       " 'train_mae': array([0.77011192, 0.7662084 , 0.76995902, 0.77597834, 0.76564943]),\n",
       " 'fit_time': (0.4212191104888916,\n",
       "  0.42732882499694824,\n",
       "  0.439424991607666,\n",
       "  0.41717100143432617,\n",
       "  0.4244229793548584),\n",
       " 'test_time': (0.0224151611328125,\n",
       "  0.017523527145385742,\n",
       "  0.019980669021606445,\n",
       "  0.017967939376831055,\n",
       "  0.028072357177734375)}"
      ]
     },
     "execution_count": 57,
     "metadata": {},
     "output_type": "execute_result"
    }
   ],
   "source": [
    "# Run 5-fold cross-validation and print results.\n",
    "cross_validate(SVD1, data, cv=5, return_train_measures=True)"
   ]
  },
  {
   "cell_type": "markdown",
   "id": "90HIgjIFUTse",
   "metadata": {
    "id": "90HIgjIFUTse"
   },
   "source": [
    "We test the ability of a machine learning model to predict new data. Cross validate function is also used to flag problems like overfitting or selection bias and gives insights on how the model will generalize to an independent dataset. The following are the results of 5 cross validation on the first configuration. The test RSME are 1.03580571, 1.06397391, 1.0491104 , 1.02021019, 1.06828148 and for train RSME 0.97368046, 0.96760117, 0.97076799, 0.97698595, 0.96652782. "
   ]
  },
  {
   "cell_type": "markdown",
   "id": "py_Tm1EZSYi4",
   "metadata": {
    "id": "py_Tm1EZSYi4"
   },
   "source": [
    "In the second configuration, for each hyperparameter we include two other values next to the default setting, one value being lower \n",
    "than the default setting and the other value being higher than the default setting. Hence, for the learning rate we include 0.002, 0.005 and 0.01,\n",
    "for the regularization term 0.01, 0.02 and 0.1 and for the number of epochs we include the values 10, 20 and 30."
   ]
  },
  {
   "cell_type": "code",
   "execution_count": 55,
   "id": "1WvSRJ_9sbgz",
   "metadata": {
    "colab": {
     "base_uri": "https://localhost:8080/"
    },
    "id": "1WvSRJ_9sbgz",
    "outputId": "da4bf97a-e9f6-4b6e-867f-12d6c581dea5"
   },
   "outputs": [
    {
     "name": "stdout",
     "output_type": "stream",
     "text": [
      "1.0234243709606707\n",
      "{'n_epochs': 20, 'lr_all': 0.01, 'reg_all': 0.1}\n"
     ]
    }
   ],
   "source": [
    "param_grid2 = {\"n_epochs\": [10, 20, 30],\n",
    "    \"lr_all\": [ 0.002, 0.005, 0.01],\n",
    "    \"reg_all\": [0.01, 0.02, 0.1]}\n",
    "gs = GridSearchCV(SVD, param_grid2, measures=[\"rmse\"], cv=5)\n",
    "\n",
    "gs.fit(data)\n",
    "\n",
    "# best RMSE score\n",
    "print(gs.best_score[\"rmse\"])\n",
    "\n",
    "# combination of parameters that gave the best RMSE score\n",
    "print(gs.best_params[\"rmse\"])"
   ]
  },
  {
   "cell_type": "markdown",
   "id": "P8X0B9KESh6B",
   "metadata": {
    "id": "P8X0B9KESh6B"
   },
   "source": [
    "After running the Grid Search second time with difrent hyperparameter values, we found the best set of parameters for the second configuration: 20 epochs, 0.01 learning rate, and 0.1 regularisation term. These settings will be used to run cross validation on 5 folds."
   ]
  },
  {
   "cell_type": "code",
   "execution_count": 58,
   "id": "xJviEjDjsv5M",
   "metadata": {
    "id": "xJviEjDjsv5M"
   },
   "outputs": [],
   "source": [
    "SVD2 = SVD(n_epochs=20 , lr_all=0.01, reg_all= 0.1)"
   ]
  },
  {
   "cell_type": "code",
   "execution_count": 59,
   "id": "g0GrKByuuWxY",
   "metadata": {
    "colab": {
     "base_uri": "https://localhost:8080/"
    },
    "id": "g0GrKByuuWxY",
    "outputId": "d7dc7867-15c7-4bfa-bc9f-872aa0373dd6"
   },
   "outputs": [
    {
     "data": {
      "text/plain": [
       "{'test_rmse': array([0.99659785, 1.01866507, 1.03289069, 1.04832872, 1.03121691]),\n",
       " 'train_rmse': array([0.51349423, 0.50847052, 0.50689682, 0.5068236 , 0.50830073]),\n",
       " 'test_mae': array([0.77941932, 0.79331489, 0.8089227 , 0.81414944, 0.80837823]),\n",
       " 'train_mae': array([0.40319262, 0.40106889, 0.39816899, 0.39790906, 0.39920883]),\n",
       " 'fit_time': (0.7497818470001221,\n",
       "  0.7901501655578613,\n",
       "  0.7571024894714355,\n",
       "  0.7475845813751221,\n",
       "  0.766998291015625),\n",
       " 'test_time': (0.017901897430419922,\n",
       "  0.020051002502441406,\n",
       "  0.02344822883605957,\n",
       "  0.016791582107543945,\n",
       "  0.026447296142578125)}"
      ]
     },
     "execution_count": 59,
     "metadata": {},
     "output_type": "execute_result"
    }
   ],
   "source": [
    "# # Run 5-fold cross-validation and print results.\n",
    "cross_validate(SVD2, data, cv=5, return_train_measures=True)"
   ]
  },
  {
   "cell_type": "markdown",
   "id": "NYhQMGkfS0k9",
   "metadata": {
    "id": "NYhQMGkfS0k9"
   },
   "source": [
    "And here are the following results of the second configuration: Test RSME for 5 cross validation is 0.99659785, 1.01866507, 1.03289069, 1.04832872, 1.03121691 and Train RSME 0.51349423, 0.50847052, 0.50689682, 0.5068236 , 0.50830073. "
   ]
  },
  {
   "cell_type": "markdown",
   "id": "-VVEKcMn_y7q",
   "metadata": {
    "id": "-VVEKcMn_y7q"
   },
   "source": [
    "**Discussion**\n",
    "\n",
    "When observing the results of the SVD algorithm, conclusions similar to the ones regarding the KNN with Z-score model are made as both SVD models outperform the baseline model. For the training set, the first SVD model returns a RMSE of 0.97 while the second SVD model returns a RMSE of 0.5. Since the RMSE by the baseline model regarding the training set equals 1.4, it can be concluded the SVD algorithm outperforms the baseline model on training set. The same holds for the test set, as the SVD models both return a RMSE of 1.0 against a test RMSE of 1.4 by the baseline model. However, opposing the KNN models, not both SVD models tend to overfit. The RMSE on the training set and the test set of the first SVD model are approximately equal (0.97 versus 1.03), so the extent of overfitting for this model is limited. However, when observing the second SVD model, clear overfitting is found. The train RMSE equals 0.5 while the test RMSE equals 1.00, which is approximately a twofold increase so there is no other conclusion possible than overfitting by the second SVD model and, hence, bad performance on unseen data. An explanation for the problem of overfitting can – similar to the case of the KNN model – be found in the relatively small dataset used. This leads to the model not having enough instances to properly learn the data in the training phase which, in turn, leads to overfitting. Hence, using a device with more RAM (so a bigger dataset can be used) would likely lead to less overfitting. Another way of improving results is found in the (tuning of) hyperparameters. Three hyperparameters were considered for these models, but the SVD algorithm has several other hyperparameters to be tuned. Including these hyperparameters in the tuning process might lead to improved results. However, including too much hyperparameters might again lead to overfitting. A last way of possible model performance improvement is checking out how hyperparameter values other than the ones used in the current SVD models affect the performance."
   ]
  }
 ],
 "metadata": {
  "accelerator": "GPU",
  "colab": {
   "collapsed_sections": [],
   "provenance": []
  },
  "kernelspec": {
   "display_name": "Python 3 (ipykernel)",
   "language": "python",
   "name": "python3"
  },
  "language_info": {
   "codemirror_mode": {
    "name": "ipython",
    "version": 3
   },
   "file_extension": ".py",
   "mimetype": "text/x-python",
   "name": "python",
   "nbconvert_exporter": "python",
   "pygments_lexer": "ipython3",
   "version": "3.9.12"
  }
 },
 "nbformat": 4,
 "nbformat_minor": 5
}
